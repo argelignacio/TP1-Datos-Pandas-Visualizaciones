{
 "cells": [
  {
   "cell_type": "markdown",
   "metadata": {},
   "source": [
    "# Parte Uno"
   ]
  },
  {
   "cell_type": "code",
   "execution_count": 2,
   "metadata": {},
   "outputs": [
    {
     "name": "stderr",
     "output_type": "stream",
     "text": [
      "[nltk_data] Downloading package stopwords to\n",
      "[nltk_data]     C:\\Users\\igna-\\AppData\\Roaming\\nltk_data...\n",
      "[nltk_data]   Package stopwords is already up-to-date!\n"
     ]
    }
   ],
   "source": [
    "# importacion general de librerias y de visualizacion (matplotlib y seaborn)\n",
    "import pandas as pd\n",
    "import scipy \n",
    "import numpy as np\n",
    "import random as rd\n",
    "import nltk\n",
    "import sklearn\n",
    "from sklearn.neighbors import NearestNeighbors\n",
    "from collections import Counter\n",
    "import matplotlib.pyplot as plt\n",
    "import seaborn as sns\n",
    "from datetime import date\n",
    "from datetime import datetime\n",
    "from tqdm import tqdm\n",
    "\n",
    "%matplotlib inline\n",
    "nltk.download('stopwords')\n",
    "\n",
    "plt.style.use('default') # haciendo los graficos un poco mas bonitos en matplotlib\n",
    "#plt.rcParams['figure.figsize'] = (20, 10)\n",
    "\n",
    "sns.set(style=\"whitegrid\") # seteando tipo de grid en seaborn\n",
    "\n",
    "pd.options.display.float_format = '{:20,.2f}'.format # suprimimos la notacion cientifica en los outputs\n",
    "\n",
    "import warnings\n",
    "warnings.filterwarnings('ignore')"
   ]
  },
  {
   "cell_type": "markdown",
   "metadata": {},
   "source": [
    "## Ejercicio 4"
   ]
  },
  {
   "cell_type": "code",
   "execution_count": 22,
   "metadata": {},
   "outputs": [],
   "source": [
    "contents = pd.read_csv('contents.csv')"
   ]
  },
  {
   "cell_type": "code",
   "execution_count": 3,
   "metadata": {},
   "outputs": [],
   "source": [
    "noComenta = contents.loc[contents['revisor_comment'].isna(),: ]"
   ]
  },
  {
   "cell_type": "code",
   "execution_count": 4,
   "metadata": {},
   "outputs": [
    {
     "data": {
      "text/plain": [
       "0.09490169790133973"
      ]
     },
     "execution_count": 4,
     "metadata": {},
     "output_type": "execute_result"
    }
   ],
   "source": [
    "noComenta.loc[noComenta['revisor_id'].notna(),:].count()[0] / contents.count()[0]"
   ]
  },
  {
   "cell_type": "markdown",
   "metadata": {},
   "source": [
    "La probabilidad de que un revisor no comente y este logueado es de 9,4901697% aproximadamente."
   ]
  },
  {
   "cell_type": "code",
   "execution_count": 5,
   "metadata": {},
   "outputs": [
    {
     "data": {
      "text/plain": [
       "0.0186524723147216"
      ]
     },
     "execution_count": 5,
     "metadata": {},
     "output_type": "execute_result"
    }
   ],
   "source": [
    "noComenta.loc[noComenta['revisor_id'].isna(),:].count()[0] / contents.count()[0]"
   ]
  },
  {
   "cell_type": "markdown",
   "metadata": {},
   "source": [
    "La probabilidad de que un revisor no este logueado y no comente es de 1,865247% aproximadamente."
   ]
  },
  {
   "cell_type": "markdown",
   "metadata": {},
   "source": [
    "## Ejercicio 5"
   ]
  },
  {
   "cell_type": "code",
   "execution_count": 6,
   "metadata": {},
   "outputs": [],
   "source": [
    "serieTitulos = contents.loc[:,'title']"
   ]
  },
  {
   "cell_type": "code",
   "execution_count": 7,
   "metadata": {},
   "outputs": [],
   "source": [
    "serieTitulos = serieTitulos.astype(str)"
   ]
  },
  {
   "cell_type": "code",
   "execution_count": 8,
   "metadata": {},
   "outputs": [],
   "source": [
    "titulos = serieTitulos.str.lower().str.split(' ')      "
   ]
  },
  {
   "cell_type": "code",
   "execution_count": 9,
   "metadata": {},
   "outputs": [],
   "source": [
    "palabras = []\n",
    "for line in titulos:\n",
    "    for word in line:\n",
    "        palabras.append(word)"
   ]
  },
  {
   "cell_type": "code",
   "execution_count": 10,
   "metadata": {},
   "outputs": [],
   "source": [
    "stopwords = set(nltk.corpus.stopwords.words('spanish') + nltk.corpus.stopwords.words('english'))\n",
    "palabras_sin_stopwords = [word for word in palabras if word not in stopwords]"
   ]
  },
  {
   "cell_type": "code",
   "execution_count": 11,
   "metadata": {},
   "outputs": [
    {
     "data": {
      "text/plain": [
       "[('san', 43930),\n",
       " ('juegos', 30602),\n",
       " ('municipio', 28788),\n",
       " ('josé', 26438),\n",
       " ('nacional', 25014),\n",
       " ('fútbol', 24042),\n",
       " ('siglo', 22937),\n",
       " ('juan', 22828),\n",
       " ('españa', 21012),\n",
       " ('olímpicos', 20388),\n",
       " ('club', 20302),\n",
       " ('(condado', 19024),\n",
       " ('santa', 18453),\n",
       " ('maría', 18379),\n",
       " ('campeonato', 17295),\n",
       " ('copa', 16741),\n",
       " ('jose', 16406),\n",
       " ('(desambiguación)', 16230),\n",
       " ('distrito', 16076),\n",
       " ('iglesia', 15264)]"
      ]
     },
     "execution_count": 11,
     "metadata": {},
     "output_type": "execute_result"
    }
   ],
   "source": [
    "Counter(palabras_sin_stopwords).most_common(20)"
   ]
  },
  {
   "cell_type": "markdown",
   "metadata": {},
   "source": [
    "La palabra no stopword del espaniol ni el ingles con mas incidencia es 'san'."
   ]
  },
  {
   "cell_type": "markdown",
   "metadata": {},
   "source": [
    "## Ejercicio 7"
   ]
  },
  {
   "cell_type": "code",
   "execution_count": 12,
   "metadata": {},
   "outputs": [],
   "source": [
    "titulosApellido = contents.where(lambda x : x['title'].str.contains('argel'))"
   ]
  },
  {
   "cell_type": "code",
   "execution_count": 13,
   "metadata": {},
   "outputs": [],
   "source": [
    "titulosApellido = titulosApellido.loc[titulosApellido['title'].notna(),:]"
   ]
  },
  {
   "cell_type": "code",
   "execution_count": 20,
   "metadata": {},
   "outputs": [],
   "source": [
    "titulosApellido['revision_timestamp'] = pd.to_datetime(titulosApellido['revision_timestamp'])"
   ]
  },
  {
   "cell_type": "code",
   "execution_count": 21,
   "metadata": {},
   "outputs": [
    {
     "data": {
      "text/plain": [
       "datetime.timedelta(days=1896)"
      ]
     },
     "execution_count": 21,
     "metadata": {},
     "output_type": "execute_result"
    }
   ],
   "source": [
    "fecha = (pd.to_datetime(titulosApellido['revision_timestamp'])).mean()\n",
    "fecha = fecha.date()\n",
    "delta = (date.today() - fecha)\n",
    "delta"
   ]
  },
  {
   "cell_type": "markdown",
   "metadata": {},
   "source": [
    "La antiguedad promedio de las ediciones de items con mi apellido contenido en el titulo es de 1896 dias al dia de hoy."
   ]
  },
  {
   "cell_type": "markdown",
   "metadata": {},
   "source": [
    "## Ejercicio 10"
   ]
  },
  {
   "cell_type": "code",
   "execution_count": 16,
   "metadata": {},
   "outputs": [],
   "source": [
    "contents = pd.read_csv('contents.csv')"
   ]
  },
  {
   "cell_type": "code",
   "execution_count": 17,
   "metadata": {},
   "outputs": [],
   "source": [
    "conRevisionesAnteriores = contents.where(lambda x : x['parent_revision'].notna())"
   ]
  },
  {
   "cell_type": "code",
   "execution_count": 18,
   "metadata": {},
   "outputs": [],
   "source": [
    "conRevisionesAnteriores = conRevisionesAnteriores.loc[conRevisionesAnteriores['parent_revision'].notna()]"
   ]
  },
  {
   "cell_type": "code",
   "execution_count": 19,
   "metadata": {},
   "outputs": [],
   "source": [
    "conRevisionesAnteriores['revision_id'] = conRevisionesAnteriores['revision_id']\n",
    "conRevisionesAnteriores['parent_revision'] = conRevisionesAnteriores['parent_revision']"
   ]
  },
  {
   "cell_type": "code",
   "execution_count": 22,
   "metadata": {},
   "outputs": [],
   "source": [
    "conRevisionesAnteriores['distancia_entre_ids'] =  abs(conRevisionesAnteriores['revision_id'] - conRevisionesAnteriores['parent_revision'])"
   ]
  },
  {
   "cell_type": "code",
   "execution_count": 23,
   "metadata": {},
   "outputs": [],
   "source": [
    "mayorDist = conRevisionesAnteriores.nlargest(1,'distancia_entre_ids')\n",
    "menorDist = conRevisionesAnteriores.nsmallest(1,'distancia_entre_ids')"
   ]
  },
  {
   "cell_type": "code",
   "execution_count": 24,
   "metadata": {},
   "outputs": [
    {
     "data": {
      "text/plain": [
       "16172    CEDA\n",
       "Name: title, dtype: object"
      ]
     },
     "execution_count": 24,
     "metadata": {},
     "output_type": "execute_result"
    }
   ],
   "source": [
    "mayorDist.title"
   ]
  },
  {
   "cell_type": "code",
   "execution_count": 25,
   "metadata": {},
   "outputs": [
    {
     "data": {
      "text/plain": [
       "16172         137,146,746.00\n",
       "Name: distancia_entre_ids, dtype: float64"
      ]
     },
     "execution_count": 25,
     "metadata": {},
     "output_type": "execute_result"
    }
   ],
   "source": [
    "mayorDist.distancia_entre_ids"
   ]
  },
  {
   "cell_type": "code",
   "execution_count": 26,
   "metadata": {},
   "outputs": [
    {
     "data": {
      "text/plain": [
       "6    Artes visuales\n",
       "Name: title, dtype: object"
      ]
     },
     "execution_count": 26,
     "metadata": {},
     "output_type": "execute_result"
    }
   ],
   "source": [
    "menorDist.title"
   ]
  },
  {
   "cell_type": "code",
   "execution_count": 27,
   "metadata": {},
   "outputs": [
    {
     "data": {
      "text/plain": [
       "6                   1.00\n",
       "Name: distancia_entre_ids, dtype: float64"
      ]
     },
     "execution_count": 27,
     "metadata": {},
     "output_type": "execute_result"
    }
   ],
   "source": [
    "menorDist.distancia_entre_ids"
   ]
  },
  {
   "cell_type": "markdown",
   "metadata": {},
   "source": [
    "El articulo con mayor distancia entre ids es 'CEDA' con un valor de 137146746 y el de menor distancia es 'Artes visuales' con un valor de 1."
   ]
  },
  {
   "cell_type": "markdown",
   "metadata": {},
   "source": [
    "## Ejercicio 17"
   ]
  },
  {
   "cell_type": "code",
   "execution_count": 28,
   "metadata": {},
   "outputs": [],
   "source": [
    "textos = pd.read_csv('contents_text_sample.csv')"
   ]
  },
  {
   "cell_type": "code",
   "execution_count": 29,
   "metadata": {},
   "outputs": [],
   "source": [
    "textos_sinna = textos.loc[textos['text'].notna()]"
   ]
  },
  {
   "cell_type": "code",
   "execution_count": 30,
   "metadata": {},
   "outputs": [],
   "source": [
    "vectorizer = sklearn.feature_extraction.text.TfidfVectorizer(lowercase = True, stop_words= stopwords)"
   ]
  },
  {
   "cell_type": "code",
   "execution_count": 31,
   "metadata": {},
   "outputs": [],
   "source": [
    "serieTextos = textos_sinna['text']"
   ]
  },
  {
   "cell_type": "code",
   "execution_count": 32,
   "metadata": {},
   "outputs": [],
   "source": [
    "matriz = vectorizer.fit_transform(serieTextos)"
   ]
  },
  {
   "cell_type": "code",
   "execution_count": 33,
   "metadata": {},
   "outputs": [],
   "source": [
    "query = vectorizer.transform(['retablo iglesia'])"
   ]
  },
  {
   "cell_type": "code",
   "execution_count": 34,
   "metadata": {},
   "outputs": [
    {
     "data": {
      "text/plain": [
       "NearestNeighbors(algorithm='brute', metric='cosine')"
      ]
     },
     "execution_count": 34,
     "metadata": {},
     "output_type": "execute_result"
    }
   ],
   "source": [
    "buscador = sklearn.neighbors.NearestNeighbors(algorithm = 'brute', metric = 'cosine')\n",
    "buscador.fit(matriz)"
   ]
  },
  {
   "cell_type": "code",
   "execution_count": 35,
   "metadata": {},
   "outputs": [],
   "source": [
    "dist, index = buscador.kneighbors(query, n_neighbors = 1)"
   ]
  },
  {
   "cell_type": "code",
   "execution_count": 36,
   "metadata": {},
   "outputs": [
    {
     "data": {
      "text/plain": [
       "array([[0.18760551]])"
      ]
     },
     "execution_count": 36,
     "metadata": {},
     "output_type": "execute_result"
    }
   ],
   "source": [
    "dist"
   ]
  },
  {
   "cell_type": "code",
   "execution_count": 37,
   "metadata": {},
   "outputs": [
    {
     "data": {
      "text/plain": [
       "id                         223146\n",
       "title               Pala de altar\n",
       "text     #REDIRECCIÓN [[Retablo]]\n",
       "Name: 5074, dtype: object"
      ]
     },
     "execution_count": 37,
     "metadata": {},
     "output_type": "execute_result"
    }
   ],
   "source": [
    "textos.iloc[index[0][0],:]"
   ]
  },
  {
   "cell_type": "markdown",
   "metadata": {},
   "source": [
    "Alguna página acerca del retablo de alguna iglesia podria ser la que se muestra arriba, titulada 'Pala de altar'.\n",
    "Al buscarla en wikipedia, literalmente me abrio Retablo y habla sobre eso."
   ]
  },
  {
   "cell_type": "markdown",
   "metadata": {},
   "source": [
    "## Ejercicio 50"
   ]
  },
  {
   "cell_type": "code",
   "execution_count": 3,
   "metadata": {},
   "outputs": [],
   "source": [
    "logs = pd.read_csv('logs.csv')"
   ]
  },
  {
   "cell_type": "code",
   "execution_count": 4,
   "metadata": {},
   "outputs": [],
   "source": [
    "lang = pd.read_csv('languages.csv')"
   ]
  },
  {
   "cell_type": "code",
   "execution_count": 5,
   "metadata": {},
   "outputs": [],
   "source": [
    "lang['babel_level'] = lang['babel_level'].replace('N',6)\n",
    "lang['babel_level'] = lang['babel_level'].astype(int)\n",
    "lang_aprobados = lang.loc[lang['babel_level'] >= 1,:]"
   ]
  },
  {
   "cell_type": "code",
   "execution_count": 6,
   "metadata": {},
   "outputs": [],
   "source": [
    "cantidad_por_user = lang_aprobados['babel_user'].value_counts()\n",
    "cantidad_por_user = cantidad_por_user.to_frame()"
   ]
  },
  {
   "cell_type": "code",
   "execution_count": 7,
   "metadata": {},
   "outputs": [
    {
     "data": {
      "text/html": [
       "<div>\n",
       "<style scoped>\n",
       "    .dataframe tbody tr th:only-of-type {\n",
       "        vertical-align: middle;\n",
       "    }\n",
       "\n",
       "    .dataframe tbody tr th {\n",
       "        vertical-align: top;\n",
       "    }\n",
       "\n",
       "    .dataframe thead th {\n",
       "        text-align: right;\n",
       "    }\n",
       "</style>\n",
       "<table border=\"1\" class=\"dataframe\">\n",
       "  <thead>\n",
       "    <tr style=\"text-align: right;\">\n",
       "      <th></th>\n",
       "      <th>contributor_id</th>\n",
       "      <th>cantidad_idiomas</th>\n",
       "    </tr>\n",
       "  </thead>\n",
       "  <tbody>\n",
       "    <tr>\n",
       "      <th>0</th>\n",
       "      <td>5928200</td>\n",
       "      <td>44</td>\n",
       "    </tr>\n",
       "    <tr>\n",
       "      <th>1</th>\n",
       "      <td>90823</td>\n",
       "      <td>34</td>\n",
       "    </tr>\n",
       "    <tr>\n",
       "      <th>2</th>\n",
       "      <td>1337465</td>\n",
       "      <td>34</td>\n",
       "    </tr>\n",
       "    <tr>\n",
       "      <th>3</th>\n",
       "      <td>3276151</td>\n",
       "      <td>29</td>\n",
       "    </tr>\n",
       "    <tr>\n",
       "      <th>4</th>\n",
       "      <td>4075698</td>\n",
       "      <td>28</td>\n",
       "    </tr>\n",
       "    <tr>\n",
       "      <th>...</th>\n",
       "      <td>...</td>\n",
       "      <td>...</td>\n",
       "    </tr>\n",
       "    <tr>\n",
       "      <th>10804</th>\n",
       "      <td>2171030</td>\n",
       "      <td>1</td>\n",
       "    </tr>\n",
       "    <tr>\n",
       "      <th>10805</th>\n",
       "      <td>682198</td>\n",
       "      <td>1</td>\n",
       "    </tr>\n",
       "    <tr>\n",
       "      <th>10806</th>\n",
       "      <td>2888924</td>\n",
       "      <td>1</td>\n",
       "    </tr>\n",
       "    <tr>\n",
       "      <th>10807</th>\n",
       "      <td>164141</td>\n",
       "      <td>1</td>\n",
       "    </tr>\n",
       "    <tr>\n",
       "      <th>10808</th>\n",
       "      <td>714053</td>\n",
       "      <td>1</td>\n",
       "    </tr>\n",
       "  </tbody>\n",
       "</table>\n",
       "<p>10809 rows × 2 columns</p>\n",
       "</div>"
      ],
      "text/plain": [
       "       contributor_id  cantidad_idiomas\n",
       "0             5928200                44\n",
       "1               90823                34\n",
       "2             1337465                34\n",
       "3             3276151                29\n",
       "4             4075698                28\n",
       "...               ...               ...\n",
       "10804         2171030                 1\n",
       "10805          682198                 1\n",
       "10806         2888924                 1\n",
       "10807          164141                 1\n",
       "10808          714053                 1\n",
       "\n",
       "[10809 rows x 2 columns]"
      ]
     },
     "execution_count": 7,
     "metadata": {},
     "output_type": "execute_result"
    }
   ],
   "source": [
    "cantidad_por_user = cantidad_por_user.reset_index().rename(columns={'index': 'contributor_id','babel_user': 'cantidad_idiomas'})\n",
    "cantidad_por_user"
   ]
  },
  {
   "cell_type": "code",
   "execution_count": 8,
   "metadata": {},
   "outputs": [],
   "source": [
    "logs= logs.loc[logs['contributor_id'].notna(),:]\n",
    "logs['contributor_id'] = logs['contributor_id'].astype(int)"
   ]
  },
  {
   "cell_type": "code",
   "execution_count": 9,
   "metadata": {},
   "outputs": [],
   "source": [
    "logs_totales=logs['logtype'].value_counts().sum()"
   ]
  },
  {
   "cell_type": "code",
   "execution_count": 10,
   "metadata": {},
   "outputs": [],
   "source": [
    "log_cols = logs['logtype'].dropna()"
   ]
  },
  {
   "cell_type": "code",
   "execution_count": 11,
   "metadata": {},
   "outputs": [],
   "source": [
    "cantidad_por_user['contributor_id'] = cantidad_por_user['contributor_id'].astype(int)"
   ]
  },
  {
   "cell_type": "code",
   "execution_count": 12,
   "metadata": {},
   "outputs": [
    {
     "data": {
      "text/html": [
       "<div>\n",
       "<style scoped>\n",
       "    .dataframe tbody tr th:only-of-type {\n",
       "        vertical-align: middle;\n",
       "    }\n",
       "\n",
       "    .dataframe tbody tr th {\n",
       "        vertical-align: top;\n",
       "    }\n",
       "\n",
       "    .dataframe thead th {\n",
       "        text-align: right;\n",
       "    }\n",
       "</style>\n",
       "<table border=\"1\" class=\"dataframe\">\n",
       "  <thead>\n",
       "    <tr style=\"text-align: right;\">\n",
       "      <th></th>\n",
       "      <th>item_id</th>\n",
       "      <th>timestamp</th>\n",
       "      <th>contributor_username</th>\n",
       "      <th>contributor_id</th>\n",
       "      <th>contributor_ip</th>\n",
       "      <th>comment</th>\n",
       "      <th>logtype</th>\n",
       "      <th>action</th>\n",
       "      <th>title</th>\n",
       "      <th>cantidad_idiomas</th>\n",
       "    </tr>\n",
       "  </thead>\n",
       "  <tbody>\n",
       "    <tr>\n",
       "      <th>0</th>\n",
       "      <td>1</td>\n",
       "      <td>2004-12-23T07:10:09Z</td>\n",
       "      <td>Sabbut</td>\n",
       "      <td>2075</td>\n",
       "      <td>NaN</td>\n",
       "      <td>el contenido era: 'Si aprendés Pensamiento Cie...</td>\n",
       "      <td>delete</td>\n",
       "      <td>delete</td>\n",
       "      <td>Verificacionismo</td>\n",
       "      <td>4</td>\n",
       "    </tr>\n",
       "    <tr>\n",
       "      <th>1</th>\n",
       "      <td>2</td>\n",
       "      <td>2004-12-23T07:14:09Z</td>\n",
       "      <td>Sabbut</td>\n",
       "      <td>2075</td>\n",
       "      <td>NaN</td>\n",
       "      <td>el contenido era: '{{destruir}}en algun lugar ...</td>\n",
       "      <td>delete</td>\n",
       "      <td>delete</td>\n",
       "      <td>Rapunzel</td>\n",
       "      <td>4</td>\n",
       "    </tr>\n",
       "    <tr>\n",
       "      <th>2</th>\n",
       "      <td>3</td>\n",
       "      <td>2004-12-23T07:26:10Z</td>\n",
       "      <td>Sabbut</td>\n",
       "      <td>2075</td>\n",
       "      <td>NaN</td>\n",
       "      <td>el contenido era: '#REDIRECT [[Flash]]'</td>\n",
       "      <td>delete</td>\n",
       "      <td>delete</td>\n",
       "      <td>Macromedia Flash</td>\n",
       "      <td>4</td>\n",
       "    </tr>\n",
       "    <tr>\n",
       "      <th>3</th>\n",
       "      <td>95</td>\n",
       "      <td>2004-12-24T09:51:09Z</td>\n",
       "      <td>Sabbut</td>\n",
       "      <td>2075</td>\n",
       "      <td>NaN</td>\n",
       "      <td>el contenido era: '{{destruir}}yo soy el hombr...</td>\n",
       "      <td>delete</td>\n",
       "      <td>delete</td>\n",
       "      <td>Ritmo</td>\n",
       "      <td>4</td>\n",
       "    </tr>\n",
       "    <tr>\n",
       "      <th>4</th>\n",
       "      <td>107</td>\n",
       "      <td>2004-12-24T15:27:00Z</td>\n",
       "      <td>Sabbut</td>\n",
       "      <td>2075</td>\n",
       "      <td>NaN</td>\n",
       "      <td>redundante, y todas las empresas ya están cate...</td>\n",
       "      <td>delete</td>\n",
       "      <td>delete</td>\n",
       "      <td>Empresas actuales de Informática</td>\n",
       "      <td>4</td>\n",
       "    </tr>\n",
       "    <tr>\n",
       "      <th>...</th>\n",
       "      <td>...</td>\n",
       "      <td>...</td>\n",
       "      <td>...</td>\n",
       "      <td>...</td>\n",
       "      <td>...</td>\n",
       "      <td>...</td>\n",
       "      <td>...</td>\n",
       "      <td>...</td>\n",
       "      <td>...</td>\n",
       "      <td>...</td>\n",
       "    </tr>\n",
       "    <tr>\n",
       "      <th>1727941</th>\n",
       "      <td>15578412</td>\n",
       "      <td>2021-08-30T10:27:07Z</td>\n",
       "      <td>LisaTaridis7</td>\n",
       "      <td>6331490</td>\n",
       "      <td>NaN</td>\n",
       "      <td>Página creada con «{{#babel:en|es-2|pt-5}}»</td>\n",
       "      <td>create</td>\n",
       "      <td>create</td>\n",
       "      <td>Usuario:LisaTaridis7</td>\n",
       "      <td>3</td>\n",
       "    </tr>\n",
       "    <tr>\n",
       "      <th>1727942</th>\n",
       "      <td>15580987</td>\n",
       "      <td>2021-08-31T12:03:31Z</td>\n",
       "      <td>Wikimacu</td>\n",
       "      <td>6332447</td>\n",
       "      <td>NaN</td>\n",
       "      <td>NaN</td>\n",
       "      <td>newusers</td>\n",
       "      <td>create</td>\n",
       "      <td>Usuario:Wikimacu</td>\n",
       "      <td>2</td>\n",
       "    </tr>\n",
       "    <tr>\n",
       "      <th>1727943</th>\n",
       "      <td>15583036</td>\n",
       "      <td>2021-09-01T07:50:55Z</td>\n",
       "      <td>Wikimacu</td>\n",
       "      <td>6332447</td>\n",
       "      <td>NaN</td>\n",
       "      <td>Página nueva.</td>\n",
       "      <td>create</td>\n",
       "      <td>create</td>\n",
       "      <td>Usuario:Wikimacu/Taller</td>\n",
       "      <td>2</td>\n",
       "    </tr>\n",
       "    <tr>\n",
       "      <th>1727944</th>\n",
       "      <td>15583459</td>\n",
       "      <td>2021-09-01T14:20:33Z</td>\n",
       "      <td>Wikimacu</td>\n",
       "      <td>6332447</td>\n",
       "      <td>NaN</td>\n",
       "      <td>Artículo creado con el [[WP:ACA|#Asistentedear...</td>\n",
       "      <td>create</td>\n",
       "      <td>create</td>\n",
       "      <td>Asociación Pompaelo</td>\n",
       "      <td>2</td>\n",
       "    </tr>\n",
       "    <tr>\n",
       "      <th>1727945</th>\n",
       "      <td>15583695</td>\n",
       "      <td>2021-09-01T16:24:02Z</td>\n",
       "      <td>Wikimacu</td>\n",
       "      <td>6332447</td>\n",
       "      <td>NaN</td>\n",
       "      <td>Insertado Babel con niveles de idiomas.</td>\n",
       "      <td>create</td>\n",
       "      <td>create</td>\n",
       "      <td>Usuario:Wikimacu</td>\n",
       "      <td>2</td>\n",
       "    </tr>\n",
       "  </tbody>\n",
       "</table>\n",
       "<p>1727946 rows × 10 columns</p>\n",
       "</div>"
      ],
      "text/plain": [
       "          item_id             timestamp contributor_username  contributor_id  \\\n",
       "0               1  2004-12-23T07:10:09Z               Sabbut            2075   \n",
       "1               2  2004-12-23T07:14:09Z               Sabbut            2075   \n",
       "2               3  2004-12-23T07:26:10Z               Sabbut            2075   \n",
       "3              95  2004-12-24T09:51:09Z               Sabbut            2075   \n",
       "4             107  2004-12-24T15:27:00Z               Sabbut            2075   \n",
       "...           ...                   ...                  ...             ...   \n",
       "1727941  15578412  2021-08-30T10:27:07Z         LisaTaridis7         6331490   \n",
       "1727942  15580987  2021-08-31T12:03:31Z             Wikimacu         6332447   \n",
       "1727943  15583036  2021-09-01T07:50:55Z             Wikimacu         6332447   \n",
       "1727944  15583459  2021-09-01T14:20:33Z             Wikimacu         6332447   \n",
       "1727945  15583695  2021-09-01T16:24:02Z             Wikimacu         6332447   \n",
       "\n",
       "        contributor_ip                                            comment  \\\n",
       "0                  NaN  el contenido era: 'Si aprendés Pensamiento Cie...   \n",
       "1                  NaN  el contenido era: '{{destruir}}en algun lugar ...   \n",
       "2                  NaN            el contenido era: '#REDIRECT [[Flash]]'   \n",
       "3                  NaN  el contenido era: '{{destruir}}yo soy el hombr...   \n",
       "4                  NaN  redundante, y todas las empresas ya están cate...   \n",
       "...                ...                                                ...   \n",
       "1727941            NaN        Página creada con «{{#babel:en|es-2|pt-5}}»   \n",
       "1727942            NaN                                                NaN   \n",
       "1727943            NaN                                      Página nueva.   \n",
       "1727944            NaN  Artículo creado con el [[WP:ACA|#Asistentedear...   \n",
       "1727945            NaN            Insertado Babel con niveles de idiomas.   \n",
       "\n",
       "          logtype  action                             title  cantidad_idiomas  \n",
       "0          delete  delete                  Verificacionismo                 4  \n",
       "1          delete  delete                          Rapunzel                 4  \n",
       "2          delete  delete                  Macromedia Flash                 4  \n",
       "3          delete  delete                             Ritmo                 4  \n",
       "4          delete  delete  Empresas actuales de Informática                 4  \n",
       "...           ...     ...                               ...               ...  \n",
       "1727941    create  create              Usuario:LisaTaridis7                 3  \n",
       "1727942  newusers  create                  Usuario:Wikimacu                 2  \n",
       "1727943    create  create           Usuario:Wikimacu/Taller                 2  \n",
       "1727944    create  create               Asociación Pompaelo                 2  \n",
       "1727945    create  create                  Usuario:Wikimacu                 2  \n",
       "\n",
       "[1727946 rows x 10 columns]"
      ]
     },
     "execution_count": 12,
     "metadata": {},
     "output_type": "execute_result"
    }
   ],
   "source": [
    "df50 = logs.merge(cantidad_por_user, on = 'contributor_id',how = 'inner')\n",
    "df50"
   ]
  },
  {
   "cell_type": "code",
   "execution_count": 13,
   "metadata": {},
   "outputs": [
    {
     "data": {
      "text/plain": [
       "[44, 34, 34, 29, 28, ..., 1, 1, 1, 1, 1]\n",
       "Length: 10809\n",
       "Categories (28, int64): [1, 2, 3, 4, ..., 28, 29, 34, 44]"
      ]
     },
     "execution_count": 13,
     "metadata": {},
     "output_type": "execute_result"
    }
   ],
   "source": [
    "arr_index = cantidad_por_user.cantidad_idiomas.astype('category').values\n",
    "arr_index"
   ]
  },
  {
   "cell_type": "code",
   "execution_count": 14,
   "metadata": {},
   "outputs": [],
   "source": [
    "por_type = (df50.groupby(by = 'logtype').cantidad_idiomas.value_counts()).to_frame().rename(columns = {'cantidad_idiomas':'cantidad_items'})\n",
    "dfFinal_final = por_type.pivot_table(index = 'cantidad_idiomas', columns = 'logtype', values = 'cantidad_items').replace(np.nan,0)"
   ]
  },
  {
   "cell_type": "code",
   "execution_count": 15,
   "metadata": {},
   "outputs": [],
   "source": [
    "total_logs=dfFinal_final.sum().sum()"
   ]
  },
  {
   "cell_type": "markdown",
   "metadata": {},
   "source": [
    "A continuacion se presenta el dataframe pedido:"
   ]
  },
  {
   "cell_type": "code",
   "execution_count": 16,
   "metadata": {},
   "outputs": [
    {
     "data": {
      "text/html": [
       "<div>\n",
       "<style scoped>\n",
       "    .dataframe tbody tr th:only-of-type {\n",
       "        vertical-align: middle;\n",
       "    }\n",
       "\n",
       "    .dataframe tbody tr th {\n",
       "        vertical-align: top;\n",
       "    }\n",
       "\n",
       "    .dataframe thead th {\n",
       "        text-align: right;\n",
       "    }\n",
       "</style>\n",
       "<table border=\"1\" class=\"dataframe\">\n",
       "  <thead>\n",
       "    <tr style=\"text-align: right;\">\n",
       "      <th>logtype</th>\n",
       "      <th>block</th>\n",
       "      <th>campus</th>\n",
       "      <th>contentmodel</th>\n",
       "      <th>course</th>\n",
       "      <th>create</th>\n",
       "      <th>delete</th>\n",
       "      <th>eparticle</th>\n",
       "      <th>gblrights</th>\n",
       "      <th>import</th>\n",
       "      <th>institution</th>\n",
       "      <th>...</th>\n",
       "      <th>newusers</th>\n",
       "      <th>online</th>\n",
       "      <th>patrol</th>\n",
       "      <th>protect</th>\n",
       "      <th>renameuser</th>\n",
       "      <th>rights</th>\n",
       "      <th>student</th>\n",
       "      <th>tag</th>\n",
       "      <th>thanks</th>\n",
       "      <th>upload</th>\n",
       "    </tr>\n",
       "    <tr>\n",
       "      <th>cantidad_idiomas</th>\n",
       "      <th></th>\n",
       "      <th></th>\n",
       "      <th></th>\n",
       "      <th></th>\n",
       "      <th></th>\n",
       "      <th></th>\n",
       "      <th></th>\n",
       "      <th></th>\n",
       "      <th></th>\n",
       "      <th></th>\n",
       "      <th></th>\n",
       "      <th></th>\n",
       "      <th></th>\n",
       "      <th></th>\n",
       "      <th></th>\n",
       "      <th></th>\n",
       "      <th></th>\n",
       "      <th></th>\n",
       "      <th></th>\n",
       "      <th></th>\n",
       "      <th></th>\n",
       "    </tr>\n",
       "  </thead>\n",
       "  <tbody>\n",
       "    <tr>\n",
       "      <th>1</th>\n",
       "      <td>0.00</td>\n",
       "      <td>0.00</td>\n",
       "      <td>0.00</td>\n",
       "      <td>0.00</td>\n",
       "      <td>0.01</td>\n",
       "      <td>0.00</td>\n",
       "      <td>0.00</td>\n",
       "      <td>0.00</td>\n",
       "      <td>0.00</td>\n",
       "      <td>0.00</td>\n",
       "      <td>...</td>\n",
       "      <td>0.00</td>\n",
       "      <td>0.00</td>\n",
       "      <td>0.00</td>\n",
       "      <td>0.00</td>\n",
       "      <td>0.00</td>\n",
       "      <td>0.00</td>\n",
       "      <td>0.00</td>\n",
       "      <td>0.00</td>\n",
       "      <td>0.00</td>\n",
       "      <td>0.00</td>\n",
       "    </tr>\n",
       "    <tr>\n",
       "      <th>2</th>\n",
       "      <td>0.01</td>\n",
       "      <td>0.00</td>\n",
       "      <td>0.00</td>\n",
       "      <td>0.00</td>\n",
       "      <td>0.07</td>\n",
       "      <td>0.11</td>\n",
       "      <td>0.00</td>\n",
       "      <td>0.00</td>\n",
       "      <td>0.00</td>\n",
       "      <td>0.00</td>\n",
       "      <td>...</td>\n",
       "      <td>0.00</td>\n",
       "      <td>0.00</td>\n",
       "      <td>0.02</td>\n",
       "      <td>0.01</td>\n",
       "      <td>0.00</td>\n",
       "      <td>0.00</td>\n",
       "      <td>0.00</td>\n",
       "      <td>0.00</td>\n",
       "      <td>0.01</td>\n",
       "      <td>0.00</td>\n",
       "    </tr>\n",
       "    <tr>\n",
       "      <th>3</th>\n",
       "      <td>0.02</td>\n",
       "      <td>0.00</td>\n",
       "      <td>0.00</td>\n",
       "      <td>0.00</td>\n",
       "      <td>0.03</td>\n",
       "      <td>0.12</td>\n",
       "      <td>0.00</td>\n",
       "      <td>0.00</td>\n",
       "      <td>0.00</td>\n",
       "      <td>0.00</td>\n",
       "      <td>...</td>\n",
       "      <td>0.00</td>\n",
       "      <td>0.00</td>\n",
       "      <td>0.01</td>\n",
       "      <td>0.01</td>\n",
       "      <td>0.00</td>\n",
       "      <td>0.00</td>\n",
       "      <td>0.00</td>\n",
       "      <td>0.00</td>\n",
       "      <td>0.01</td>\n",
       "      <td>0.00</td>\n",
       "    </tr>\n",
       "    <tr>\n",
       "      <th>4</th>\n",
       "      <td>0.02</td>\n",
       "      <td>0.00</td>\n",
       "      <td>0.00</td>\n",
       "      <td>0.00</td>\n",
       "      <td>0.03</td>\n",
       "      <td>0.17</td>\n",
       "      <td>0.00</td>\n",
       "      <td>0.00</td>\n",
       "      <td>0.00</td>\n",
       "      <td>0.00</td>\n",
       "      <td>...</td>\n",
       "      <td>0.00</td>\n",
       "      <td>0.00</td>\n",
       "      <td>0.02</td>\n",
       "      <td>0.01</td>\n",
       "      <td>0.00</td>\n",
       "      <td>0.00</td>\n",
       "      <td>0.00</td>\n",
       "      <td>0.00</td>\n",
       "      <td>0.01</td>\n",
       "      <td>0.00</td>\n",
       "    </tr>\n",
       "    <tr>\n",
       "      <th>5</th>\n",
       "      <td>0.00</td>\n",
       "      <td>0.00</td>\n",
       "      <td>0.00</td>\n",
       "      <td>0.00</td>\n",
       "      <td>0.01</td>\n",
       "      <td>0.02</td>\n",
       "      <td>0.00</td>\n",
       "      <td>0.00</td>\n",
       "      <td>0.00</td>\n",
       "      <td>0.00</td>\n",
       "      <td>...</td>\n",
       "      <td>0.00</td>\n",
       "      <td>0.00</td>\n",
       "      <td>0.01</td>\n",
       "      <td>0.00</td>\n",
       "      <td>0.00</td>\n",
       "      <td>0.00</td>\n",
       "      <td>0.00</td>\n",
       "      <td>0.00</td>\n",
       "      <td>0.00</td>\n",
       "      <td>0.00</td>\n",
       "    </tr>\n",
       "    <tr>\n",
       "      <th>6</th>\n",
       "      <td>0.00</td>\n",
       "      <td>0.00</td>\n",
       "      <td>0.00</td>\n",
       "      <td>0.00</td>\n",
       "      <td>0.01</td>\n",
       "      <td>0.03</td>\n",
       "      <td>0.00</td>\n",
       "      <td>0.00</td>\n",
       "      <td>0.00</td>\n",
       "      <td>0.00</td>\n",
       "      <td>...</td>\n",
       "      <td>0.00</td>\n",
       "      <td>0.00</td>\n",
       "      <td>0.00</td>\n",
       "      <td>0.00</td>\n",
       "      <td>0.00</td>\n",
       "      <td>0.00</td>\n",
       "      <td>0.00</td>\n",
       "      <td>0.00</td>\n",
       "      <td>0.00</td>\n",
       "      <td>0.00</td>\n",
       "    </tr>\n",
       "    <tr>\n",
       "      <th>7</th>\n",
       "      <td>0.00</td>\n",
       "      <td>0.00</td>\n",
       "      <td>0.00</td>\n",
       "      <td>0.00</td>\n",
       "      <td>0.00</td>\n",
       "      <td>0.02</td>\n",
       "      <td>0.00</td>\n",
       "      <td>0.00</td>\n",
       "      <td>0.00</td>\n",
       "      <td>0.00</td>\n",
       "      <td>...</td>\n",
       "      <td>0.00</td>\n",
       "      <td>0.00</td>\n",
       "      <td>0.00</td>\n",
       "      <td>0.00</td>\n",
       "      <td>0.00</td>\n",
       "      <td>0.00</td>\n",
       "      <td>0.00</td>\n",
       "      <td>0.00</td>\n",
       "      <td>0.00</td>\n",
       "      <td>0.00</td>\n",
       "    </tr>\n",
       "    <tr>\n",
       "      <th>8</th>\n",
       "      <td>0.00</td>\n",
       "      <td>0.00</td>\n",
       "      <td>0.00</td>\n",
       "      <td>0.00</td>\n",
       "      <td>0.00</td>\n",
       "      <td>0.00</td>\n",
       "      <td>0.00</td>\n",
       "      <td>0.00</td>\n",
       "      <td>0.00</td>\n",
       "      <td>0.00</td>\n",
       "      <td>...</td>\n",
       "      <td>0.00</td>\n",
       "      <td>0.00</td>\n",
       "      <td>0.00</td>\n",
       "      <td>0.00</td>\n",
       "      <td>0.00</td>\n",
       "      <td>0.00</td>\n",
       "      <td>0.00</td>\n",
       "      <td>0.00</td>\n",
       "      <td>0.00</td>\n",
       "      <td>0.00</td>\n",
       "    </tr>\n",
       "    <tr>\n",
       "      <th>9</th>\n",
       "      <td>0.00</td>\n",
       "      <td>0.00</td>\n",
       "      <td>0.00</td>\n",
       "      <td>0.00</td>\n",
       "      <td>0.00</td>\n",
       "      <td>0.00</td>\n",
       "      <td>0.00</td>\n",
       "      <td>0.00</td>\n",
       "      <td>0.00</td>\n",
       "      <td>0.00</td>\n",
       "      <td>...</td>\n",
       "      <td>0.00</td>\n",
       "      <td>0.00</td>\n",
       "      <td>0.00</td>\n",
       "      <td>0.00</td>\n",
       "      <td>0.00</td>\n",
       "      <td>0.00</td>\n",
       "      <td>0.00</td>\n",
       "      <td>0.00</td>\n",
       "      <td>0.00</td>\n",
       "      <td>0.00</td>\n",
       "    </tr>\n",
       "    <tr>\n",
       "      <th>10</th>\n",
       "      <td>0.00</td>\n",
       "      <td>0.00</td>\n",
       "      <td>0.00</td>\n",
       "      <td>0.00</td>\n",
       "      <td>0.01</td>\n",
       "      <td>0.00</td>\n",
       "      <td>0.00</td>\n",
       "      <td>0.00</td>\n",
       "      <td>0.00</td>\n",
       "      <td>0.00</td>\n",
       "      <td>...</td>\n",
       "      <td>0.00</td>\n",
       "      <td>0.00</td>\n",
       "      <td>0.00</td>\n",
       "      <td>0.00</td>\n",
       "      <td>0.00</td>\n",
       "      <td>0.00</td>\n",
       "      <td>0.00</td>\n",
       "      <td>0.00</td>\n",
       "      <td>0.00</td>\n",
       "      <td>0.00</td>\n",
       "    </tr>\n",
       "    <tr>\n",
       "      <th>11</th>\n",
       "      <td>0.00</td>\n",
       "      <td>0.00</td>\n",
       "      <td>0.00</td>\n",
       "      <td>0.00</td>\n",
       "      <td>0.00</td>\n",
       "      <td>0.00</td>\n",
       "      <td>0.00</td>\n",
       "      <td>0.00</td>\n",
       "      <td>0.00</td>\n",
       "      <td>0.00</td>\n",
       "      <td>...</td>\n",
       "      <td>0.00</td>\n",
       "      <td>0.00</td>\n",
       "      <td>0.00</td>\n",
       "      <td>0.00</td>\n",
       "      <td>0.00</td>\n",
       "      <td>0.00</td>\n",
       "      <td>0.00</td>\n",
       "      <td>0.00</td>\n",
       "      <td>0.00</td>\n",
       "      <td>0.00</td>\n",
       "    </tr>\n",
       "    <tr>\n",
       "      <th>12</th>\n",
       "      <td>0.00</td>\n",
       "      <td>0.00</td>\n",
       "      <td>0.00</td>\n",
       "      <td>0.00</td>\n",
       "      <td>0.00</td>\n",
       "      <td>0.00</td>\n",
       "      <td>0.00</td>\n",
       "      <td>0.00</td>\n",
       "      <td>0.00</td>\n",
       "      <td>0.00</td>\n",
       "      <td>...</td>\n",
       "      <td>0.00</td>\n",
       "      <td>0.00</td>\n",
       "      <td>0.00</td>\n",
       "      <td>0.00</td>\n",
       "      <td>0.00</td>\n",
       "      <td>0.00</td>\n",
       "      <td>0.00</td>\n",
       "      <td>0.00</td>\n",
       "      <td>0.00</td>\n",
       "      <td>0.00</td>\n",
       "    </tr>\n",
       "    <tr>\n",
       "      <th>13</th>\n",
       "      <td>0.00</td>\n",
       "      <td>0.00</td>\n",
       "      <td>0.00</td>\n",
       "      <td>0.00</td>\n",
       "      <td>0.00</td>\n",
       "      <td>0.00</td>\n",
       "      <td>0.00</td>\n",
       "      <td>0.00</td>\n",
       "      <td>0.00</td>\n",
       "      <td>0.00</td>\n",
       "      <td>...</td>\n",
       "      <td>0.00</td>\n",
       "      <td>0.00</td>\n",
       "      <td>0.00</td>\n",
       "      <td>0.00</td>\n",
       "      <td>0.00</td>\n",
       "      <td>0.00</td>\n",
       "      <td>0.00</td>\n",
       "      <td>0.00</td>\n",
       "      <td>0.00</td>\n",
       "      <td>0.00</td>\n",
       "    </tr>\n",
       "    <tr>\n",
       "      <th>14</th>\n",
       "      <td>0.00</td>\n",
       "      <td>0.00</td>\n",
       "      <td>0.00</td>\n",
       "      <td>0.00</td>\n",
       "      <td>0.00</td>\n",
       "      <td>0.00</td>\n",
       "      <td>0.00</td>\n",
       "      <td>0.00</td>\n",
       "      <td>0.00</td>\n",
       "      <td>0.00</td>\n",
       "      <td>...</td>\n",
       "      <td>0.00</td>\n",
       "      <td>0.00</td>\n",
       "      <td>0.00</td>\n",
       "      <td>0.00</td>\n",
       "      <td>0.00</td>\n",
       "      <td>0.00</td>\n",
       "      <td>0.00</td>\n",
       "      <td>0.00</td>\n",
       "      <td>0.00</td>\n",
       "      <td>0.00</td>\n",
       "    </tr>\n",
       "    <tr>\n",
       "      <th>15</th>\n",
       "      <td>0.00</td>\n",
       "      <td>0.00</td>\n",
       "      <td>0.00</td>\n",
       "      <td>0.00</td>\n",
       "      <td>0.00</td>\n",
       "      <td>0.00</td>\n",
       "      <td>0.00</td>\n",
       "      <td>0.00</td>\n",
       "      <td>0.00</td>\n",
       "      <td>0.00</td>\n",
       "      <td>...</td>\n",
       "      <td>0.00</td>\n",
       "      <td>0.00</td>\n",
       "      <td>0.00</td>\n",
       "      <td>0.00</td>\n",
       "      <td>0.00</td>\n",
       "      <td>0.00</td>\n",
       "      <td>0.00</td>\n",
       "      <td>0.00</td>\n",
       "      <td>0.00</td>\n",
       "      <td>0.00</td>\n",
       "    </tr>\n",
       "    <tr>\n",
       "      <th>16</th>\n",
       "      <td>0.00</td>\n",
       "      <td>0.00</td>\n",
       "      <td>0.00</td>\n",
       "      <td>0.00</td>\n",
       "      <td>0.00</td>\n",
       "      <td>0.00</td>\n",
       "      <td>0.00</td>\n",
       "      <td>0.00</td>\n",
       "      <td>0.00</td>\n",
       "      <td>0.00</td>\n",
       "      <td>...</td>\n",
       "      <td>0.00</td>\n",
       "      <td>0.00</td>\n",
       "      <td>0.00</td>\n",
       "      <td>0.00</td>\n",
       "      <td>0.00</td>\n",
       "      <td>0.00</td>\n",
       "      <td>0.00</td>\n",
       "      <td>0.00</td>\n",
       "      <td>0.00</td>\n",
       "      <td>0.00</td>\n",
       "    </tr>\n",
       "    <tr>\n",
       "      <th>17</th>\n",
       "      <td>0.00</td>\n",
       "      <td>0.00</td>\n",
       "      <td>0.00</td>\n",
       "      <td>0.00</td>\n",
       "      <td>0.00</td>\n",
       "      <td>0.00</td>\n",
       "      <td>0.00</td>\n",
       "      <td>0.00</td>\n",
       "      <td>0.00</td>\n",
       "      <td>0.00</td>\n",
       "      <td>...</td>\n",
       "      <td>0.00</td>\n",
       "      <td>0.00</td>\n",
       "      <td>0.00</td>\n",
       "      <td>0.00</td>\n",
       "      <td>0.00</td>\n",
       "      <td>0.00</td>\n",
       "      <td>0.00</td>\n",
       "      <td>0.00</td>\n",
       "      <td>0.00</td>\n",
       "      <td>0.00</td>\n",
       "    </tr>\n",
       "    <tr>\n",
       "      <th>18</th>\n",
       "      <td>0.00</td>\n",
       "      <td>0.00</td>\n",
       "      <td>0.00</td>\n",
       "      <td>0.00</td>\n",
       "      <td>0.00</td>\n",
       "      <td>0.00</td>\n",
       "      <td>0.00</td>\n",
       "      <td>0.00</td>\n",
       "      <td>0.00</td>\n",
       "      <td>0.00</td>\n",
       "      <td>...</td>\n",
       "      <td>0.00</td>\n",
       "      <td>0.00</td>\n",
       "      <td>0.00</td>\n",
       "      <td>0.00</td>\n",
       "      <td>0.00</td>\n",
       "      <td>0.00</td>\n",
       "      <td>0.00</td>\n",
       "      <td>0.00</td>\n",
       "      <td>0.00</td>\n",
       "      <td>0.00</td>\n",
       "    </tr>\n",
       "    <tr>\n",
       "      <th>21</th>\n",
       "      <td>0.00</td>\n",
       "      <td>0.00</td>\n",
       "      <td>0.00</td>\n",
       "      <td>0.00</td>\n",
       "      <td>0.00</td>\n",
       "      <td>0.00</td>\n",
       "      <td>0.00</td>\n",
       "      <td>0.00</td>\n",
       "      <td>0.00</td>\n",
       "      <td>0.00</td>\n",
       "      <td>...</td>\n",
       "      <td>0.00</td>\n",
       "      <td>0.00</td>\n",
       "      <td>0.00</td>\n",
       "      <td>0.00</td>\n",
       "      <td>0.00</td>\n",
       "      <td>0.00</td>\n",
       "      <td>0.00</td>\n",
       "      <td>0.00</td>\n",
       "      <td>0.00</td>\n",
       "      <td>0.00</td>\n",
       "    </tr>\n",
       "    <tr>\n",
       "      <th>22</th>\n",
       "      <td>0.00</td>\n",
       "      <td>0.00</td>\n",
       "      <td>0.00</td>\n",
       "      <td>0.00</td>\n",
       "      <td>0.00</td>\n",
       "      <td>0.00</td>\n",
       "      <td>0.00</td>\n",
       "      <td>0.00</td>\n",
       "      <td>0.00</td>\n",
       "      <td>0.00</td>\n",
       "      <td>...</td>\n",
       "      <td>0.00</td>\n",
       "      <td>0.00</td>\n",
       "      <td>0.00</td>\n",
       "      <td>0.00</td>\n",
       "      <td>0.00</td>\n",
       "      <td>0.00</td>\n",
       "      <td>0.00</td>\n",
       "      <td>0.00</td>\n",
       "      <td>0.00</td>\n",
       "      <td>0.00</td>\n",
       "    </tr>\n",
       "    <tr>\n",
       "      <th>23</th>\n",
       "      <td>0.00</td>\n",
       "      <td>0.00</td>\n",
       "      <td>0.00</td>\n",
       "      <td>0.00</td>\n",
       "      <td>0.00</td>\n",
       "      <td>0.00</td>\n",
       "      <td>0.00</td>\n",
       "      <td>0.00</td>\n",
       "      <td>0.00</td>\n",
       "      <td>0.00</td>\n",
       "      <td>...</td>\n",
       "      <td>0.00</td>\n",
       "      <td>0.00</td>\n",
       "      <td>0.00</td>\n",
       "      <td>0.00</td>\n",
       "      <td>0.00</td>\n",
       "      <td>0.00</td>\n",
       "      <td>0.00</td>\n",
       "      <td>0.00</td>\n",
       "      <td>0.00</td>\n",
       "      <td>0.00</td>\n",
       "    </tr>\n",
       "    <tr>\n",
       "      <th>24</th>\n",
       "      <td>0.00</td>\n",
       "      <td>0.00</td>\n",
       "      <td>0.00</td>\n",
       "      <td>0.00</td>\n",
       "      <td>0.00</td>\n",
       "      <td>0.00</td>\n",
       "      <td>0.00</td>\n",
       "      <td>0.00</td>\n",
       "      <td>0.00</td>\n",
       "      <td>0.00</td>\n",
       "      <td>...</td>\n",
       "      <td>0.00</td>\n",
       "      <td>0.00</td>\n",
       "      <td>0.00</td>\n",
       "      <td>0.00</td>\n",
       "      <td>0.00</td>\n",
       "      <td>0.00</td>\n",
       "      <td>0.00</td>\n",
       "      <td>0.00</td>\n",
       "      <td>0.00</td>\n",
       "      <td>0.00</td>\n",
       "    </tr>\n",
       "    <tr>\n",
       "      <th>25</th>\n",
       "      <td>0.00</td>\n",
       "      <td>0.00</td>\n",
       "      <td>0.00</td>\n",
       "      <td>0.00</td>\n",
       "      <td>0.00</td>\n",
       "      <td>0.00</td>\n",
       "      <td>0.00</td>\n",
       "      <td>0.00</td>\n",
       "      <td>0.00</td>\n",
       "      <td>0.00</td>\n",
       "      <td>...</td>\n",
       "      <td>0.00</td>\n",
       "      <td>0.00</td>\n",
       "      <td>0.00</td>\n",
       "      <td>0.00</td>\n",
       "      <td>0.00</td>\n",
       "      <td>0.00</td>\n",
       "      <td>0.00</td>\n",
       "      <td>0.00</td>\n",
       "      <td>0.00</td>\n",
       "      <td>0.00</td>\n",
       "    </tr>\n",
       "    <tr>\n",
       "      <th>27</th>\n",
       "      <td>0.00</td>\n",
       "      <td>0.00</td>\n",
       "      <td>0.00</td>\n",
       "      <td>0.00</td>\n",
       "      <td>0.00</td>\n",
       "      <td>0.00</td>\n",
       "      <td>0.00</td>\n",
       "      <td>0.00</td>\n",
       "      <td>0.00</td>\n",
       "      <td>0.00</td>\n",
       "      <td>...</td>\n",
       "      <td>0.00</td>\n",
       "      <td>0.00</td>\n",
       "      <td>0.00</td>\n",
       "      <td>0.00</td>\n",
       "      <td>0.00</td>\n",
       "      <td>0.00</td>\n",
       "      <td>0.00</td>\n",
       "      <td>0.00</td>\n",
       "      <td>0.00</td>\n",
       "      <td>0.00</td>\n",
       "    </tr>\n",
       "    <tr>\n",
       "      <th>28</th>\n",
       "      <td>0.00</td>\n",
       "      <td>0.00</td>\n",
       "      <td>0.00</td>\n",
       "      <td>0.00</td>\n",
       "      <td>0.00</td>\n",
       "      <td>0.00</td>\n",
       "      <td>0.00</td>\n",
       "      <td>0.00</td>\n",
       "      <td>0.00</td>\n",
       "      <td>0.00</td>\n",
       "      <td>...</td>\n",
       "      <td>0.00</td>\n",
       "      <td>0.00</td>\n",
       "      <td>0.00</td>\n",
       "      <td>0.00</td>\n",
       "      <td>0.00</td>\n",
       "      <td>0.00</td>\n",
       "      <td>0.00</td>\n",
       "      <td>0.00</td>\n",
       "      <td>0.00</td>\n",
       "      <td>0.00</td>\n",
       "    </tr>\n",
       "    <tr>\n",
       "      <th>29</th>\n",
       "      <td>0.00</td>\n",
       "      <td>0.00</td>\n",
       "      <td>0.00</td>\n",
       "      <td>0.00</td>\n",
       "      <td>0.00</td>\n",
       "      <td>0.00</td>\n",
       "      <td>0.00</td>\n",
       "      <td>0.00</td>\n",
       "      <td>0.00</td>\n",
       "      <td>0.00</td>\n",
       "      <td>...</td>\n",
       "      <td>0.00</td>\n",
       "      <td>0.00</td>\n",
       "      <td>0.00</td>\n",
       "      <td>0.00</td>\n",
       "      <td>0.00</td>\n",
       "      <td>0.00</td>\n",
       "      <td>0.00</td>\n",
       "      <td>0.00</td>\n",
       "      <td>0.00</td>\n",
       "      <td>0.00</td>\n",
       "    </tr>\n",
       "    <tr>\n",
       "      <th>34</th>\n",
       "      <td>0.00</td>\n",
       "      <td>0.00</td>\n",
       "      <td>0.00</td>\n",
       "      <td>0.00</td>\n",
       "      <td>0.00</td>\n",
       "      <td>0.00</td>\n",
       "      <td>0.00</td>\n",
       "      <td>0.00</td>\n",
       "      <td>0.00</td>\n",
       "      <td>0.00</td>\n",
       "      <td>...</td>\n",
       "      <td>0.00</td>\n",
       "      <td>0.00</td>\n",
       "      <td>0.00</td>\n",
       "      <td>0.00</td>\n",
       "      <td>0.00</td>\n",
       "      <td>0.00</td>\n",
       "      <td>0.00</td>\n",
       "      <td>0.00</td>\n",
       "      <td>0.00</td>\n",
       "      <td>0.00</td>\n",
       "    </tr>\n",
       "    <tr>\n",
       "      <th>44</th>\n",
       "      <td>0.00</td>\n",
       "      <td>0.00</td>\n",
       "      <td>0.00</td>\n",
       "      <td>0.00</td>\n",
       "      <td>0.00</td>\n",
       "      <td>0.00</td>\n",
       "      <td>0.00</td>\n",
       "      <td>0.00</td>\n",
       "      <td>0.00</td>\n",
       "      <td>0.00</td>\n",
       "      <td>...</td>\n",
       "      <td>0.00</td>\n",
       "      <td>0.00</td>\n",
       "      <td>0.00</td>\n",
       "      <td>0.00</td>\n",
       "      <td>0.00</td>\n",
       "      <td>0.00</td>\n",
       "      <td>0.00</td>\n",
       "      <td>0.00</td>\n",
       "      <td>0.00</td>\n",
       "      <td>0.00</td>\n",
       "    </tr>\n",
       "  </tbody>\n",
       "</table>\n",
       "<p>28 rows × 25 columns</p>\n",
       "</div>"
      ],
      "text/plain": [
       "logtype                         block               campus  \\\n",
       "cantidad_idiomas                                             \n",
       "1                                0.00                 0.00   \n",
       "2                                0.01                 0.00   \n",
       "3                                0.02                 0.00   \n",
       "4                                0.02                 0.00   \n",
       "5                                0.00                 0.00   \n",
       "6                                0.00                 0.00   \n",
       "7                                0.00                 0.00   \n",
       "8                                0.00                 0.00   \n",
       "9                                0.00                 0.00   \n",
       "10                               0.00                 0.00   \n",
       "11                               0.00                 0.00   \n",
       "12                               0.00                 0.00   \n",
       "13                               0.00                 0.00   \n",
       "14                               0.00                 0.00   \n",
       "15                               0.00                 0.00   \n",
       "16                               0.00                 0.00   \n",
       "17                               0.00                 0.00   \n",
       "18                               0.00                 0.00   \n",
       "21                               0.00                 0.00   \n",
       "22                               0.00                 0.00   \n",
       "23                               0.00                 0.00   \n",
       "24                               0.00                 0.00   \n",
       "25                               0.00                 0.00   \n",
       "27                               0.00                 0.00   \n",
       "28                               0.00                 0.00   \n",
       "29                               0.00                 0.00   \n",
       "34                               0.00                 0.00   \n",
       "44                               0.00                 0.00   \n",
       "\n",
       "logtype                  contentmodel               course  \\\n",
       "cantidad_idiomas                                             \n",
       "1                                0.00                 0.00   \n",
       "2                                0.00                 0.00   \n",
       "3                                0.00                 0.00   \n",
       "4                                0.00                 0.00   \n",
       "5                                0.00                 0.00   \n",
       "6                                0.00                 0.00   \n",
       "7                                0.00                 0.00   \n",
       "8                                0.00                 0.00   \n",
       "9                                0.00                 0.00   \n",
       "10                               0.00                 0.00   \n",
       "11                               0.00                 0.00   \n",
       "12                               0.00                 0.00   \n",
       "13                               0.00                 0.00   \n",
       "14                               0.00                 0.00   \n",
       "15                               0.00                 0.00   \n",
       "16                               0.00                 0.00   \n",
       "17                               0.00                 0.00   \n",
       "18                               0.00                 0.00   \n",
       "21                               0.00                 0.00   \n",
       "22                               0.00                 0.00   \n",
       "23                               0.00                 0.00   \n",
       "24                               0.00                 0.00   \n",
       "25                               0.00                 0.00   \n",
       "27                               0.00                 0.00   \n",
       "28                               0.00                 0.00   \n",
       "29                               0.00                 0.00   \n",
       "34                               0.00                 0.00   \n",
       "44                               0.00                 0.00   \n",
       "\n",
       "logtype                        create               delete  \\\n",
       "cantidad_idiomas                                             \n",
       "1                                0.01                 0.00   \n",
       "2                                0.07                 0.11   \n",
       "3                                0.03                 0.12   \n",
       "4                                0.03                 0.17   \n",
       "5                                0.01                 0.02   \n",
       "6                                0.01                 0.03   \n",
       "7                                0.00                 0.02   \n",
       "8                                0.00                 0.00   \n",
       "9                                0.00                 0.00   \n",
       "10                               0.01                 0.00   \n",
       "11                               0.00                 0.00   \n",
       "12                               0.00                 0.00   \n",
       "13                               0.00                 0.00   \n",
       "14                               0.00                 0.00   \n",
       "15                               0.00                 0.00   \n",
       "16                               0.00                 0.00   \n",
       "17                               0.00                 0.00   \n",
       "18                               0.00                 0.00   \n",
       "21                               0.00                 0.00   \n",
       "22                               0.00                 0.00   \n",
       "23                               0.00                 0.00   \n",
       "24                               0.00                 0.00   \n",
       "25                               0.00                 0.00   \n",
       "27                               0.00                 0.00   \n",
       "28                               0.00                 0.00   \n",
       "29                               0.00                 0.00   \n",
       "34                               0.00                 0.00   \n",
       "44                               0.00                 0.00   \n",
       "\n",
       "logtype                     eparticle            gblrights  \\\n",
       "cantidad_idiomas                                             \n",
       "1                                0.00                 0.00   \n",
       "2                                0.00                 0.00   \n",
       "3                                0.00                 0.00   \n",
       "4                                0.00                 0.00   \n",
       "5                                0.00                 0.00   \n",
       "6                                0.00                 0.00   \n",
       "7                                0.00                 0.00   \n",
       "8                                0.00                 0.00   \n",
       "9                                0.00                 0.00   \n",
       "10                               0.00                 0.00   \n",
       "11                               0.00                 0.00   \n",
       "12                               0.00                 0.00   \n",
       "13                               0.00                 0.00   \n",
       "14                               0.00                 0.00   \n",
       "15                               0.00                 0.00   \n",
       "16                               0.00                 0.00   \n",
       "17                               0.00                 0.00   \n",
       "18                               0.00                 0.00   \n",
       "21                               0.00                 0.00   \n",
       "22                               0.00                 0.00   \n",
       "23                               0.00                 0.00   \n",
       "24                               0.00                 0.00   \n",
       "25                               0.00                 0.00   \n",
       "27                               0.00                 0.00   \n",
       "28                               0.00                 0.00   \n",
       "29                               0.00                 0.00   \n",
       "34                               0.00                 0.00   \n",
       "44                               0.00                 0.00   \n",
       "\n",
       "logtype                        import          institution  ...  \\\n",
       "cantidad_idiomas                                            ...   \n",
       "1                                0.00                 0.00  ...   \n",
       "2                                0.00                 0.00  ...   \n",
       "3                                0.00                 0.00  ...   \n",
       "4                                0.00                 0.00  ...   \n",
       "5                                0.00                 0.00  ...   \n",
       "6                                0.00                 0.00  ...   \n",
       "7                                0.00                 0.00  ...   \n",
       "8                                0.00                 0.00  ...   \n",
       "9                                0.00                 0.00  ...   \n",
       "10                               0.00                 0.00  ...   \n",
       "11                               0.00                 0.00  ...   \n",
       "12                               0.00                 0.00  ...   \n",
       "13                               0.00                 0.00  ...   \n",
       "14                               0.00                 0.00  ...   \n",
       "15                               0.00                 0.00  ...   \n",
       "16                               0.00                 0.00  ...   \n",
       "17                               0.00                 0.00  ...   \n",
       "18                               0.00                 0.00  ...   \n",
       "21                               0.00                 0.00  ...   \n",
       "22                               0.00                 0.00  ...   \n",
       "23                               0.00                 0.00  ...   \n",
       "24                               0.00                 0.00  ...   \n",
       "25                               0.00                 0.00  ...   \n",
       "27                               0.00                 0.00  ...   \n",
       "28                               0.00                 0.00  ...   \n",
       "29                               0.00                 0.00  ...   \n",
       "34                               0.00                 0.00  ...   \n",
       "44                               0.00                 0.00  ...   \n",
       "\n",
       "logtype                      newusers               online  \\\n",
       "cantidad_idiomas                                             \n",
       "1                                0.00                 0.00   \n",
       "2                                0.00                 0.00   \n",
       "3                                0.00                 0.00   \n",
       "4                                0.00                 0.00   \n",
       "5                                0.00                 0.00   \n",
       "6                                0.00                 0.00   \n",
       "7                                0.00                 0.00   \n",
       "8                                0.00                 0.00   \n",
       "9                                0.00                 0.00   \n",
       "10                               0.00                 0.00   \n",
       "11                               0.00                 0.00   \n",
       "12                               0.00                 0.00   \n",
       "13                               0.00                 0.00   \n",
       "14                               0.00                 0.00   \n",
       "15                               0.00                 0.00   \n",
       "16                               0.00                 0.00   \n",
       "17                               0.00                 0.00   \n",
       "18                               0.00                 0.00   \n",
       "21                               0.00                 0.00   \n",
       "22                               0.00                 0.00   \n",
       "23                               0.00                 0.00   \n",
       "24                               0.00                 0.00   \n",
       "25                               0.00                 0.00   \n",
       "27                               0.00                 0.00   \n",
       "28                               0.00                 0.00   \n",
       "29                               0.00                 0.00   \n",
       "34                               0.00                 0.00   \n",
       "44                               0.00                 0.00   \n",
       "\n",
       "logtype                        patrol              protect  \\\n",
       "cantidad_idiomas                                             \n",
       "1                                0.00                 0.00   \n",
       "2                                0.02                 0.01   \n",
       "3                                0.01                 0.01   \n",
       "4                                0.02                 0.01   \n",
       "5                                0.01                 0.00   \n",
       "6                                0.00                 0.00   \n",
       "7                                0.00                 0.00   \n",
       "8                                0.00                 0.00   \n",
       "9                                0.00                 0.00   \n",
       "10                               0.00                 0.00   \n",
       "11                               0.00                 0.00   \n",
       "12                               0.00                 0.00   \n",
       "13                               0.00                 0.00   \n",
       "14                               0.00                 0.00   \n",
       "15                               0.00                 0.00   \n",
       "16                               0.00                 0.00   \n",
       "17                               0.00                 0.00   \n",
       "18                               0.00                 0.00   \n",
       "21                               0.00                 0.00   \n",
       "22                               0.00                 0.00   \n",
       "23                               0.00                 0.00   \n",
       "24                               0.00                 0.00   \n",
       "25                               0.00                 0.00   \n",
       "27                               0.00                 0.00   \n",
       "28                               0.00                 0.00   \n",
       "29                               0.00                 0.00   \n",
       "34                               0.00                 0.00   \n",
       "44                               0.00                 0.00   \n",
       "\n",
       "logtype                    renameuser               rights  \\\n",
       "cantidad_idiomas                                             \n",
       "1                                0.00                 0.00   \n",
       "2                                0.00                 0.00   \n",
       "3                                0.00                 0.00   \n",
       "4                                0.00                 0.00   \n",
       "5                                0.00                 0.00   \n",
       "6                                0.00                 0.00   \n",
       "7                                0.00                 0.00   \n",
       "8                                0.00                 0.00   \n",
       "9                                0.00                 0.00   \n",
       "10                               0.00                 0.00   \n",
       "11                               0.00                 0.00   \n",
       "12                               0.00                 0.00   \n",
       "13                               0.00                 0.00   \n",
       "14                               0.00                 0.00   \n",
       "15                               0.00                 0.00   \n",
       "16                               0.00                 0.00   \n",
       "17                               0.00                 0.00   \n",
       "18                               0.00                 0.00   \n",
       "21                               0.00                 0.00   \n",
       "22                               0.00                 0.00   \n",
       "23                               0.00                 0.00   \n",
       "24                               0.00                 0.00   \n",
       "25                               0.00                 0.00   \n",
       "27                               0.00                 0.00   \n",
       "28                               0.00                 0.00   \n",
       "29                               0.00                 0.00   \n",
       "34                               0.00                 0.00   \n",
       "44                               0.00                 0.00   \n",
       "\n",
       "logtype                       student                  tag  \\\n",
       "cantidad_idiomas                                             \n",
       "1                                0.00                 0.00   \n",
       "2                                0.00                 0.00   \n",
       "3                                0.00                 0.00   \n",
       "4                                0.00                 0.00   \n",
       "5                                0.00                 0.00   \n",
       "6                                0.00                 0.00   \n",
       "7                                0.00                 0.00   \n",
       "8                                0.00                 0.00   \n",
       "9                                0.00                 0.00   \n",
       "10                               0.00                 0.00   \n",
       "11                               0.00                 0.00   \n",
       "12                               0.00                 0.00   \n",
       "13                               0.00                 0.00   \n",
       "14                               0.00                 0.00   \n",
       "15                               0.00                 0.00   \n",
       "16                               0.00                 0.00   \n",
       "17                               0.00                 0.00   \n",
       "18                               0.00                 0.00   \n",
       "21                               0.00                 0.00   \n",
       "22                               0.00                 0.00   \n",
       "23                               0.00                 0.00   \n",
       "24                               0.00                 0.00   \n",
       "25                               0.00                 0.00   \n",
       "27                               0.00                 0.00   \n",
       "28                               0.00                 0.00   \n",
       "29                               0.00                 0.00   \n",
       "34                               0.00                 0.00   \n",
       "44                               0.00                 0.00   \n",
       "\n",
       "logtype                        thanks               upload  \n",
       "cantidad_idiomas                                            \n",
       "1                                0.00                 0.00  \n",
       "2                                0.01                 0.00  \n",
       "3                                0.01                 0.00  \n",
       "4                                0.01                 0.00  \n",
       "5                                0.00                 0.00  \n",
       "6                                0.00                 0.00  \n",
       "7                                0.00                 0.00  \n",
       "8                                0.00                 0.00  \n",
       "9                                0.00                 0.00  \n",
       "10                               0.00                 0.00  \n",
       "11                               0.00                 0.00  \n",
       "12                               0.00                 0.00  \n",
       "13                               0.00                 0.00  \n",
       "14                               0.00                 0.00  \n",
       "15                               0.00                 0.00  \n",
       "16                               0.00                 0.00  \n",
       "17                               0.00                 0.00  \n",
       "18                               0.00                 0.00  \n",
       "21                               0.00                 0.00  \n",
       "22                               0.00                 0.00  \n",
       "23                               0.00                 0.00  \n",
       "24                               0.00                 0.00  \n",
       "25                               0.00                 0.00  \n",
       "27                               0.00                 0.00  \n",
       "28                               0.00                 0.00  \n",
       "29                               0.00                 0.00  \n",
       "34                               0.00                 0.00  \n",
       "44                               0.00                 0.00  \n",
       "\n",
       "[28 rows x 25 columns]"
      ]
     },
     "execution_count": 16,
     "metadata": {},
     "output_type": "execute_result"
    }
   ],
   "source": [
    "dfFinal_final_final =dfFinal_final/total_logs\n",
    "dfFinal_final_final"
   ]
  },
  {
   "cell_type": "code",
   "execution_count": 17,
   "metadata": {},
   "outputs": [
    {
     "data": {
      "text/plain": [
       "1.0000000000000002"
      ]
     },
     "execution_count": 17,
     "metadata": {},
     "output_type": "execute_result"
    }
   ],
   "source": [
    "dfFinal_final_final.sum().sum()"
   ]
  },
  {
   "cell_type": "markdown",
   "metadata": {},
   "source": [
    "## Ejercicio 57"
   ]
  },
  {
   "cell_type": "code",
   "execution_count": 18,
   "metadata": {},
   "outputs": [],
   "source": [
    "acciones = logs\n",
    "acciones['timestamp'] = pd.to_datetime(logs['timestamp'])"
   ]
  },
  {
   "cell_type": "code",
   "execution_count": 19,
   "metadata": {},
   "outputs": [],
   "source": [
    "acciones.timestamp = acciones.timestamp.dt.weekday"
   ]
  },
  {
   "cell_type": "code",
   "execution_count": 20,
   "metadata": {},
   "outputs": [],
   "source": [
    "prob_acc_gen_por_dia = acciones.timestamp.value_counts()/acciones.count()[0]"
   ]
  },
  {
   "cell_type": "code",
   "execution_count": 23,
   "metadata": {},
   "outputs": [],
   "source": [
    "ult_edi = contents\n",
    "ult_edi['revision_timestamp'] = pd.to_datetime(contents['revision_timestamp'])"
   ]
  },
  {
   "cell_type": "code",
   "execution_count": 24,
   "metadata": {},
   "outputs": [],
   "source": [
    "ult_edi.revision_timestamp = ult_edi.revision_timestamp.dt.weekday"
   ]
  },
  {
   "cell_type": "code",
   "execution_count": 25,
   "metadata": {},
   "outputs": [],
   "source": [
    "prob_ult_edi_por_dia = ult_edi.revision_timestamp.value_counts()/ult_edi.count()[0]"
   ]
  },
  {
   "cell_type": "code",
   "execution_count": 26,
   "metadata": {},
   "outputs": [
    {
     "data": {
      "text/plain": [
       "0                   0.15\n",
       "1                   0.15\n",
       "2                   0.15\n",
       "3                   0.15\n",
       "4                   0.13\n",
       "5                   0.13\n",
       "6                   0.13\n",
       "Name: revision_timestamp, dtype: float64"
      ]
     },
     "execution_count": 26,
     "metadata": {},
     "output_type": "execute_result"
    }
   ],
   "source": [
    "prob_ult_edi_por_dia = prob_ult_edi_por_dia.sort_index()\n",
    "prob_ult_edi_por_dia"
   ]
  },
  {
   "cell_type": "markdown",
   "metadata": {},
   "source": [
    "Probabilidades de que la ultima edicion se realice segun el dia:"
   ]
  },
  {
   "cell_type": "markdown",
   "metadata": {},
   "source": [
    "\n",
    "Dia | Probabilidad\n",
    "-------- | -------\n",
    "Lunes | 0.15 \n",
    "Martes | 0.15 \n",
    "Miercoles | 0.15\n",
    "Jueves | 0.15 \n",
    "Viernes | 0.13 \n",
    "Sabado | 0.13 \n",
    "Domingo | 0.13\n",
    "\n"
   ]
  },
  {
   "cell_type": "code",
   "execution_count": 27,
   "metadata": {},
   "outputs": [
    {
     "data": {
      "text/plain": [
       "0                   0.14\n",
       "1                   0.15\n",
       "2                   0.15\n",
       "3                   0.14\n",
       "4                   0.13\n",
       "5                   0.12\n",
       "6                   0.16\n",
       "Name: timestamp, dtype: float64"
      ]
     },
     "execution_count": 27,
     "metadata": {},
     "output_type": "execute_result"
    }
   ],
   "source": [
    "prob_acc_gen_por_dia = prob_acc_gen_por_dia.sort_index()\n",
    "prob_acc_gen_por_dia                                      "
   ]
  },
  {
   "cell_type": "markdown",
   "metadata": {},
   "source": [
    "Probabilidades de que una accion se realice segun el dia:"
   ]
  },
  {
   "cell_type": "markdown",
   "metadata": {},
   "source": [
    "Dia | Probabilidad\n",
    "-------- | -------\n",
    "Lunes | 0.14 \n",
    "Martes | 0.15\n",
    "Miercoles | 0.15\n",
    "Jueves | 0.14\n",
    "Viernes | 0.13\n",
    "Sabado | 0.12 \n",
    "Domingo | 0.16"
   ]
  },
  {
   "cell_type": "code",
   "execution_count": 28,
   "metadata": {},
   "outputs": [
    {
     "data": {
      "text/plain": [
       "1.943651788661553"
      ]
     },
     "execution_count": 28,
     "metadata": {},
     "output_type": "execute_result"
    }
   ],
   "source": [
    "scipy.stats.entropy(prob_ult_edi_por_dia)"
   ]
  },
  {
   "cell_type": "code",
   "execution_count": 29,
   "metadata": {},
   "outputs": [
    {
     "data": {
      "text/plain": [
       "1.9425986671771645"
      ]
     },
     "execution_count": 29,
     "metadata": {},
     "output_type": "execute_result"
    }
   ],
   "source": [
    "scipy.stats.entropy(prob_acc_gen_por_dia)"
   ]
  },
  {
   "cell_type": "markdown",
   "metadata": {},
   "source": [
    "La entropia de que una acción en general se realice según día de la semana es 1.9425986671771645"
   ]
  },
  {
   "cell_type": "markdown",
   "metadata": {},
   "source": [
    "La entropia de que la ultima edicion se realice según día de la semana es 1.943651788661553"
   ]
  },
  {
   "cell_type": "code",
   "execution_count": 31,
   "metadata": {},
   "outputs": [
    {
     "data": {
      "text/plain": [
       "0.0032484034150289387"
      ]
     },
     "execution_count": 31,
     "metadata": {},
     "output_type": "execute_result"
    }
   ],
   "source": [
    "scipy.special.kl_div(prob_ult_edi_por_dia.array, prob_acc_gen_por_dia.array).sum()"
   ]
  },
  {
   "cell_type": "code",
   "execution_count": 30,
   "metadata": {},
   "outputs": [
    {
     "data": {
      "text/plain": [
       "0.0033905663748925174"
      ]
     },
     "execution_count": 30,
     "metadata": {},
     "output_type": "execute_result"
    }
   ],
   "source": [
    "scipy.special.kl_div(prob_acc_gen_por_dia.array,prob_ult_edi_por_dia.array).sum()"
   ]
  },
  {
   "cell_type": "markdown",
   "metadata": {},
   "source": [
    "$Dkl(P_{ultima edicion} || P_{accion general} )= 0.0032484034150289387 $"
   ]
  },
  {
   "cell_type": "markdown",
   "metadata": {},
   "source": [
    "$Dkl( P_{accion general}|| P_{ultima edicion} )= 0.0033905663748925174 $"
   ]
  },
  {
   "cell_type": "markdown",
   "metadata": {},
   "source": [
    "# Parte Dos: a)"
   ]
  },
  {
   "cell_type": "code",
   "execution_count": 32,
   "metadata": {},
   "outputs": [],
   "source": [
    "labels = pd.read_csv('training_set_labels.csv')\n",
    "trainingdata = pd.read_csv('training_set_features.csv')"
   ]
  },
  {
   "cell_type": "code",
   "execution_count": 33,
   "metadata": {},
   "outputs": [],
   "source": [
    "a_plotear = trainingdata.merge(labels, on='respondent_id' )"
   ]
  },
  {
   "cell_type": "code",
   "execution_count": 34,
   "metadata": {},
   "outputs": [
    {
     "data": {
      "text/html": [
       "<div>\n",
       "<style scoped>\n",
       "    .dataframe tbody tr th:only-of-type {\n",
       "        vertical-align: middle;\n",
       "    }\n",
       "\n",
       "    .dataframe tbody tr th {\n",
       "        vertical-align: top;\n",
       "    }\n",
       "\n",
       "    .dataframe thead th {\n",
       "        text-align: right;\n",
       "    }\n",
       "</style>\n",
       "<table border=\"1\" class=\"dataframe\">\n",
       "  <thead>\n",
       "    <tr style=\"text-align: right;\">\n",
       "      <th>h1n1_knowledge</th>\n",
       "      <th>0.00</th>\n",
       "      <th>1.00</th>\n",
       "      <th>2.00</th>\n",
       "    </tr>\n",
       "    <tr>\n",
       "      <th>h1n1_concern</th>\n",
       "      <th></th>\n",
       "      <th></th>\n",
       "      <th></th>\n",
       "    </tr>\n",
       "  </thead>\n",
       "  <tbody>\n",
       "    <tr>\n",
       "      <th>0.00</th>\n",
       "      <td>0.09</td>\n",
       "      <td>0.13</td>\n",
       "      <td>0.17</td>\n",
       "    </tr>\n",
       "    <tr>\n",
       "      <th>1.00</th>\n",
       "      <td>0.14</td>\n",
       "      <td>0.14</td>\n",
       "      <td>0.23</td>\n",
       "    </tr>\n",
       "    <tr>\n",
       "      <th>2.00</th>\n",
       "      <td>0.16</td>\n",
       "      <td>0.20</td>\n",
       "      <td>0.30</td>\n",
       "    </tr>\n",
       "    <tr>\n",
       "      <th>3.00</th>\n",
       "      <td>0.20</td>\n",
       "      <td>0.25</td>\n",
       "      <td>0.37</td>\n",
       "    </tr>\n",
       "  </tbody>\n",
       "</table>\n",
       "</div>"
      ],
      "text/plain": [
       "h1n1_knowledge                 0.00                 1.00                 2.00\n",
       "h1n1_concern                                                                 \n",
       "0.00                           0.09                 0.13                 0.17\n",
       "1.00                           0.14                 0.14                 0.23\n",
       "2.00                           0.16                 0.20                 0.30\n",
       "3.00                           0.20                 0.25                 0.37"
      ]
     },
     "execution_count": 34,
     "metadata": {},
     "output_type": "execute_result"
    }
   ],
   "source": [
    "plotea = a_plotear[[\"h1n1_concern\",\"h1n1_knowledge\",'h1n1_vaccine']].pivot_table(index = 'h1n1_concern', columns = 'h1n1_knowledge', values = 'h1n1_vaccine', aggfunc='mean')\n",
    "plotea"
   ]
  },
  {
   "cell_type": "markdown",
   "metadata": {},
   "source": [
    "## Heatmap - Dataset: \"Flu Shot Learning: Predict H1N1 and Seasonal Flu Vaccines\""
   ]
  },
  {
   "cell_type": "code",
   "execution_count": 35,
   "metadata": {},
   "outputs": [
    {
     "data": {
      "image/png": "[encoded data removed]",
      "text/plain": [
       "<Figure size 640x480 with 2 Axes>"
      ]
     },
     "metadata": {},
     "output_type": "display_data"
    }
   ],
   "source": [
    "sns.heatmap(plotea,  cmap=\"YlGnBu\", xticklabels = '012', yticklabels = '0123').invert_yaxis()\n",
    "plt.title(\"Tasa de vacunados por conocimiento y preocupacion\")\n",
    "plt.xlabel(\"Nivel de conocimiento H1N1\")\n",
    "plt.ylabel(\"Nivel de preocupacion H1N1\")\n",
    "plt.show()"
   ]
  },
  {
   "cell_type": "code",
   "execution_count": 38,
   "metadata": {},
   "outputs": [],
   "source": [
    "a_plotear['not_h1n1_vaccine'] = a_plotear['h1n1_vaccine'] ==0"
   ]
  },
  {
   "cell_type": "code",
   "execution_count": 39,
   "metadata": {},
   "outputs": [],
   "source": [
    "plotea = a_plotear[[\"employment_status\",\"h1n1_vaccine\",'not_h1n1_vaccine']].groupby(['employment_status','h1n1_vaccine']).count()\n",
    "plotea= plotea.reset_index()"
   ]
  },
  {
   "cell_type": "markdown",
   "metadata": {},
   "source": [
    "## Barplot - Dataset: \"Flu Shot Learning: Predict H1N1 and Seasonal Flu Vaccines\""
   ]
  },
  {
   "cell_type": "code",
   "execution_count": 84,
   "metadata": {},
   "outputs": [
    {
     "data": {
      "image/png": "[encoded data removed]",
      "text/plain": [
       "<Figure size 640x480 with 1 Axes>"
      ]
     },
     "metadata": {},
     "output_type": "display_data"
    }
   ],
   "source": [
    "plotea.replace('Employed','Empleado',inplace = True)\n",
    "plotea.replace('Not in Labor Force','Retirado',inplace = True)\n",
    "plotea.replace('Unemployed','Desempleado',inplace = True)\n",
    "plotea['h1n1_vaccine'].replace(0,'No vacunado',inplace = True)\n",
    "plotea['h1n1_vaccine'].replace(1,'Vacunado',inplace = True)\n",
    "sns.barplot(data = plotea, x = 'employment_status',y ='not_h1n1_vaccine', hue = 'h1n1_vaccine', palette = 'Set1')\n",
    "plt.xlabel('Estado laboral')\n",
    "plt.ylabel('Cantidad')\n",
    "plt.legend(title = \"Vacunacion\")\n",
    "plt.title(\"Vacunacion por estado laboral\")\n",
    "plt.show()"
   ]
  },
  {
   "cell_type": "code",
   "execution_count": 3,
   "metadata": {},
   "outputs": [],
   "source": [
    "labels = pd.read_csv('dengue_labels_train.csv')\n",
    "trainingdata = pd.read_csv('dengue_features_train.csv')"
   ]
  },
  {
   "cell_type": "code",
   "execution_count": 4,
   "metadata": {},
   "outputs": [],
   "source": [
    "a_plotear = trainingdata.merge(labels, on=['city','year','weekofyear'] )"
   ]
  },
  {
   "cell_type": "code",
   "execution_count": 5,
   "metadata": {},
   "outputs": [],
   "source": [
    "violin = a_plotear[['city', 'weekofyear','total_cases','year']].loc[(a_plotear['year']>2001) & (a_plotear['year']<2006)] \n",
    "violin.replace('sj', 'San Juan',inplace = True)\n",
    "violin.replace('iq', 'Iquitos',inplace = True)"
   ]
  },
  {
   "cell_type": "markdown",
   "metadata": {},
   "source": [
    "## Boxplot - Dataset: \"DengAI: Predicting Disease Spread\""
   ]
  },
  {
   "cell_type": "code",
   "execution_count": 6,
   "metadata": {},
   "outputs": [
    {
     "data": {
      "image/png": "[encoded data removed]",
      "text/plain": [
       "<Figure size 768x576 with 1 Axes>"
      ]
     },
     "metadata": {},
     "output_type": "display_data"
    }
   ],
   "source": [
    "plt.figure(dpi = 120)\n",
    "ax = sns.boxplot(x=\"year\", y=\"total_cases\", hue=\"city\",\n",
    "                 data=violin, palette = ['#da70d6','#66cdaa'])\n",
    "plt.title('Casos semanales por ciudad desde 2002 hasta 2005')\n",
    "plt.xlabel('Año')\n",
    "plt.ylabel('Casos semanales')\n",
    "plt.legend(title = \"Ciudades\")\n",
    "\n",
    "plt.show()"
   ]
  },
  {
   "cell_type": "code",
   "execution_count": 7,
   "metadata": {},
   "outputs": [],
   "source": [
    "box = a_plotear[['city', 'weekofyear','total_cases','reanalysis_sat_precip_amt_mm']].loc[(a_plotear['year']>2001) & (a_plotear['year']<2006)] \n",
    "box.replace('sj', 'San Juan',inplace = True)\n",
    "box.replace('iq', 'Iquitos',inplace = True)\n",
    "box['hasta_precipitacion_mm'] = box['reanalysis_sat_precip_amt_mm'].apply(lambda x: \"25mm\" if x < 25 else (\"50mm\" if x < 50 else (\"75mm\" if x < 75 else \"+100mm\")))"
   ]
  },
  {
   "cell_type": "markdown",
   "metadata": {},
   "source": [
    "## Violinplot - Dataset: \"DengAI: Predicting Disease Spread\""
   ]
  },
  {
   "cell_type": "code",
   "execution_count": 8,
   "metadata": {},
   "outputs": [
    {
     "data": {
      "image/png": "[encoded data removed]",
      "text/plain": [
       "<Figure size 640x480 with 1 Axes>"
      ]
     },
     "metadata": {},
     "output_type": "display_data"
    }
   ],
   "source": [
    "ax = sns.violinplot(x=\"hasta_precipitacion_mm\", y=\"total_cases\", hue=\"city\",\n",
    "\n",
    "                 data=box, palette=\"Set3\", split=True)\n",
    "plt.title('Casos semanales por ciudad desde 2002 hasta 2005 segun precipitaciones')\n",
    "plt.xlabel('Rango de precipitaciones')\n",
    "plt.ylabel('Casos semanales')\n",
    "plt.ylim((0,175))\n",
    "plt.legend(title = \"Ciudades\")\n",
    "plt.show()"
   ]
  },
  {
   "cell_type": "code",
   "execution_count": 57,
   "metadata": {},
   "outputs": [],
   "source": [
    "a_plotear = pd.read_csv('soja.csv')"
   ]
  },
  {
   "cell_type": "code",
   "execution_count": 58,
   "metadata": {},
   "outputs": [],
   "source": [
    "a_plotear['Fecha'] =  pd.to_datetime(a_plotear['Fecha']).dt.year"
   ]
  },
  {
   "cell_type": "code",
   "execution_count": 59,
   "metadata": {},
   "outputs": [],
   "source": [
    "bar = a_plotear.groupby('Fecha').mean().reset_index()"
   ]
  },
  {
   "cell_type": "markdown",
   "metadata": {},
   "source": [
    "## Barplot - Dataset: \"Proyectando el comportamiento de la soja\""
   ]
  },
  {
   "cell_type": "code",
   "execution_count": 60,
   "metadata": {},
   "outputs": [
    {
     "data": {
      "image/png": "[encoded data removed]",
      "text/plain": [
       "<Figure size 640x480 with 1 Axes>"
      ]
     },
     "metadata": {},
     "output_type": "display_data"
    }
   ],
   "source": [
    "sns.barplot(x=\"Fecha\", y=\"Cierre\", data=bar,\n",
    "                 color=\"#B8243A\", )\n",
    "plt.xticks(rotation=45, ha='right')\n",
    "plt.title('Cierre del precio promedio anual')\n",
    "plt.show()\n"
   ]
  },
  {
   "cell_type": "markdown",
   "metadata": {},
   "source": [
    "## Histograma - Dataset: \"Proyectando el comportamiento de la soja\""
   ]
  },
  {
   "cell_type": "code",
   "execution_count": 87,
   "metadata": {},
   "outputs": [
    {
     "data": {
      "image/png": "[encoded data removed]",
      "text/plain": [
       "<Figure size 640x480 with 1 Axes>"
      ]
     },
     "metadata": {},
     "output_type": "display_data"
    }
   ],
   "source": [
    "sns.histplot(data=a_plotear, x=\"Cierre\", bins=30,kde=True , element=\"step\", color ='#81a80a')\n",
    "plt.ylabel('Frecuencia')\n",
    "plt.title('Histograma de precio de cierre diario de la soja')\n",
    "plt.show()"
   ]
  },
  {
   "cell_type": "markdown",
   "metadata": {},
   "source": [
    "# Parte Dos: b)"
   ]
  },
  {
   "cell_type": "markdown",
   "metadata": {},
   "source": [
    "El dataset lo saque de kaggle y es sobre distintos sensores de velocidad en NY, sus mediciones y ubicaciones."
   ]
  },
  {
   "cell_type": "code",
   "execution_count": 9,
   "metadata": {},
   "outputs": [],
   "source": [
    "a_plotear = pd.read_csv('may2016.csv')"
   ]
  },
  {
   "cell_type": "code",
   "execution_count": 10,
   "metadata": {},
   "outputs": [],
   "source": [
    "ubicaciones = pd.read_csv('linkinfo.csv')"
   ]
  },
  {
   "cell_type": "code",
   "execution_count": 11,
   "metadata": {},
   "outputs": [
    {
     "data": {
      "text/html": [
       "<div>\n",
       "<style scoped>\n",
       "    .dataframe tbody tr th:only-of-type {\n",
       "        vertical-align: middle;\n",
       "    }\n",
       "\n",
       "    .dataframe tbody tr th {\n",
       "        vertical-align: top;\n",
       "    }\n",
       "\n",
       "    .dataframe thead th {\n",
       "        text-align: right;\n",
       "    }\n",
       "</style>\n",
       "<table border=\"1\" class=\"dataframe\">\n",
       "  <thead>\n",
       "    <tr style=\"text-align: right;\">\n",
       "      <th></th>\n",
       "      <th>Id</th>\n",
       "      <th>Speed</th>\n",
       "      <th>TravelTime</th>\n",
       "      <th>Status</th>\n",
       "      <th>DataAsOf</th>\n",
       "      <th>linkId</th>\n",
       "    </tr>\n",
       "  </thead>\n",
       "  <tbody>\n",
       "    <tr>\n",
       "      <th>0</th>\n",
       "      <td>1</td>\n",
       "      <td>19.26</td>\n",
       "      <td>276</td>\n",
       "      <td>0</td>\n",
       "      <td>5/1/2016 03:00:43</td>\n",
       "      <td>4616337</td>\n",
       "    </tr>\n",
       "    <tr>\n",
       "      <th>1</th>\n",
       "      <td>2</td>\n",
       "      <td>24.85</td>\n",
       "      <td>130</td>\n",
       "      <td>0</td>\n",
       "      <td>5/1/2016 03:00:43</td>\n",
       "      <td>4616325</td>\n",
       "    </tr>\n",
       "    <tr>\n",
       "      <th>2</th>\n",
       "      <td>3</td>\n",
       "      <td>21.13</td>\n",
       "      <td>297</td>\n",
       "      <td>0</td>\n",
       "      <td>5/1/2016 03:00:43</td>\n",
       "      <td>4616324</td>\n",
       "    </tr>\n",
       "    <tr>\n",
       "      <th>3</th>\n",
       "      <td>4</td>\n",
       "      <td>13.05</td>\n",
       "      <td>235</td>\n",
       "      <td>0</td>\n",
       "      <td>5/1/2016 03:00:43</td>\n",
       "      <td>4616338</td>\n",
       "    </tr>\n",
       "    <tr>\n",
       "      <th>4</th>\n",
       "      <td>106</td>\n",
       "      <td>21.75</td>\n",
       "      <td>101</td>\n",
       "      <td>0</td>\n",
       "      <td>5/1/2016 03:00:43</td>\n",
       "      <td>4616323</td>\n",
       "    </tr>\n",
       "    <tr>\n",
       "      <th>...</th>\n",
       "      <td>...</td>\n",
       "      <td>...</td>\n",
       "      <td>...</td>\n",
       "      <td>...</td>\n",
       "      <td>...</td>\n",
       "      <td>...</td>\n",
       "    </tr>\n",
       "    <tr>\n",
       "      <th>1206181</th>\n",
       "      <td>405</td>\n",
       "      <td>21.75</td>\n",
       "      <td>79</td>\n",
       "      <td>0</td>\n",
       "      <td>5/31/2016 09:40:06</td>\n",
       "      <td>4362314</td>\n",
       "    </tr>\n",
       "    <tr>\n",
       "      <th>1206182</th>\n",
       "      <td>206</td>\n",
       "      <td>39.77</td>\n",
       "      <td>295</td>\n",
       "      <td>0</td>\n",
       "      <td>5/26/2016 17:17:25</td>\n",
       "      <td>4362252</td>\n",
       "    </tr>\n",
       "    <tr>\n",
       "      <th>1206183</th>\n",
       "      <td>205</td>\n",
       "      <td>45.98</td>\n",
       "      <td>314</td>\n",
       "      <td>0</td>\n",
       "      <td>5/26/2016 17:17:25</td>\n",
       "      <td>4362247</td>\n",
       "    </tr>\n",
       "    <tr>\n",
       "      <th>1206184</th>\n",
       "      <td>405</td>\n",
       "      <td>21.75</td>\n",
       "      <td>79</td>\n",
       "      <td>0</td>\n",
       "      <td>5/31/2016 09:40:06</td>\n",
       "      <td>4362314</td>\n",
       "    </tr>\n",
       "    <tr>\n",
       "      <th>1206185</th>\n",
       "      <td>206</td>\n",
       "      <td>39.77</td>\n",
       "      <td>295</td>\n",
       "      <td>0</td>\n",
       "      <td>5/26/2016 17:17:25</td>\n",
       "      <td>4362252</td>\n",
       "    </tr>\n",
       "  </tbody>\n",
       "</table>\n",
       "<p>1206186 rows × 6 columns</p>\n",
       "</div>"
      ],
      "text/plain": [
       "          Id                Speed  TravelTime  Status            DataAsOf  \\\n",
       "0          1                19.26         276       0   5/1/2016 03:00:43   \n",
       "1          2                24.85         130       0   5/1/2016 03:00:43   \n",
       "2          3                21.13         297       0   5/1/2016 03:00:43   \n",
       "3          4                13.05         235       0   5/1/2016 03:00:43   \n",
       "4        106                21.75         101       0   5/1/2016 03:00:43   \n",
       "...      ...                  ...         ...     ...                 ...   \n",
       "1206181  405                21.75          79       0  5/31/2016 09:40:06   \n",
       "1206182  206                39.77         295       0  5/26/2016 17:17:25   \n",
       "1206183  205                45.98         314       0  5/26/2016 17:17:25   \n",
       "1206184  405                21.75          79       0  5/31/2016 09:40:06   \n",
       "1206185  206                39.77         295       0  5/26/2016 17:17:25   \n",
       "\n",
       "          linkId  \n",
       "0        4616337  \n",
       "1        4616325  \n",
       "2        4616324  \n",
       "3        4616338  \n",
       "4        4616323  \n",
       "...          ...  \n",
       "1206181  4362314  \n",
       "1206182  4362252  \n",
       "1206183  4362247  \n",
       "1206184  4362314  \n",
       "1206185  4362252  \n",
       "\n",
       "[1206186 rows x 6 columns]"
      ]
     },
     "execution_count": 11,
     "metadata": {},
     "output_type": "execute_result"
    }
   ],
   "source": [
    "a_plotear"
   ]
  },
  {
   "cell_type": "code",
   "execution_count": 12,
   "metadata": {},
   "outputs": [],
   "source": [
    "a_plotear['DataAsOf'] = pd.to_datetime(a_plotear['DataAsOf'])"
   ]
  },
  {
   "cell_type": "code",
   "execution_count": 13,
   "metadata": {},
   "outputs": [],
   "source": [
    "porBarrios = a_plotear.merge(ubicaciones , on = 'linkId')[['Speed','DataAsOf','Borough']]\n",
    "manhattan = porBarrios.loc[porBarrios['Borough'] == 'Manhattan']\n",
    "queens = porBarrios.loc[porBarrios['Borough'] == 'Queens']\n",
    "statenIsland = porBarrios.loc[(porBarrios['Borough'] == 'Staten Island') | (porBarrios['Borough'] == 'Staten island')]"
   ]
  },
  {
   "cell_type": "markdown",
   "metadata": {},
   "source": [
    "Decidi plotear en mi visualizacion original los dos distritos de la ciudad con casos de velocidades mas extremos durante la hora pico, Manhattan (27,330 hab/km²) y Staten Island (1,782 hab./km²). Abajo esta el boxplot de estos datos."
   ]
  },
  {
   "cell_type": "code",
   "execution_count": 14,
   "metadata": {},
   "outputs": [
    {
     "data": {
      "image/png": "[encoded data removed]",
      "text/plain": [
       "<Figure size 640x480 with 1 Axes>"
      ]
     },
     "metadata": {},
     "output_type": "display_data"
    },
    {
     "data": {
      "image/png": "[encoded data removed]",
      "text/plain": [
       "<Figure size 640x480 with 1 Axes>"
      ]
     },
     "metadata": {},
     "output_type": "display_data"
    }
   ],
   "source": [
    "sns.boxplot(manhattan.loc[(manhattan['DataAsOf'].dt.hour < 18) & (manhattan['DataAsOf'].dt.hour >9)].Speed)\n",
    "plt.title('Distribucion de velocidades desde 09 hasta 18 hs Manhattan')\n",
    "plt.xlim((0,175))\n",
    "plt.show()\n",
    "sns.boxplot(statenIsland.loc[(statenIsland['DataAsOf'].dt.hour < 18) & (statenIsland['DataAsOf'].dt.hour >9)].Speed, color ='green')\n",
    "plt.title('Distribucion de velocidades desde 09 hasta 18 hs Staten Island')\n",
    "plt.xlim((0,175))\n",
    "plt.show()"
   ]
  },
  {
   "cell_type": "markdown",
   "metadata": {},
   "source": [
    "A partir de este boxplot cree mi propia visualizacion. Esta da la misma informacion que un boxplot pero con la forma de un velocimetro y sin outliers."
   ]
  },
  {
   "cell_type": "code",
   "execution_count": 2,
   "metadata": {},
   "outputs": [
    {
     "data": {
      "image/png": "[encoded data removed]",
      "text/plain": [
       "<IPython.core.display.Image object>"
      ]
     },
     "execution_count": 2,
     "metadata": {},
     "output_type": "execute_result"
    }
   ],
   "source": [
    "from IPython.display import Image\n",
    "Image(\"velocidades.png\")"
   ]
  }
 ],
 "metadata": {
  "kernelspec": {
   "display_name": "Python 3",
   "language": "python",
   "name": "python3"
  },
  "language_info": {
   "codemirror_mode": {
    "name": "ipython",
    "version": 3
   },
   "file_extension": ".py",
   "mimetype": "text/x-python",
   "name": "python",
   "nbconvert_exporter": "python",
   "pygments_lexer": "ipython3",
   "version": "3.8.5"
  }
 },
 "nbformat": 4,
 "nbformat_minor": 4
}
